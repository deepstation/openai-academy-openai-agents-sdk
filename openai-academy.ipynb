{
 "cells": [
  {
   "cell_type": "markdown",
   "id": "08c90c7f",
   "metadata": {},
   "source": [
    "# OpenAI Academy\n",
    "\n",
    "[![Static Badge](https://img.shields.io/badge/Open%20in%20Modal%20-%20Agents?style=for-the-badge&color=green)](https://modal.com/notebooks/new/https://github.com/CelestoAI/agentor/blob/main/examples/openai-academy.ipynb)\n",
    "\n",
    "\n",
    "## Agents with examples"
   ]
  },
  {
   "cell_type": "code",
   "execution_count": 1,
   "id": "5c8ad9e1",
   "metadata": {},
   "outputs": [],
   "source": [
    "# %uv pip install openai-agents==0.3.3 agentor"
   ]
  },
  {
   "cell_type": "markdown",
   "id": "a4df4611",
   "metadata": {},
   "source": [
    "## What is an Agent?\n",
    "\n",
    "<img src=\"https://i.imgflip.com/a7rr5a.jpg\" width=\"250px\">\n",
    "\n",
    "<br>\n",
    "\n",
    "## Agents are LLMs with higher autonomy\n",
    "\n",
    "- Tool access\n",
    "- Memory"
   ]
  },
  {
   "cell_type": "code",
   "execution_count": 2,
   "id": "b058fc10",
   "metadata": {},
   "outputs": [
    {
     "name": "stdout",
     "output_type": "stream",
     "text": [
      "Calls itself again\n",
      "until the base case ends, then\n",
      "returns to the call\n"
     ]
    }
   ],
   "source": [
    "from dotenv import load_dotenv\n",
    "from openai import OpenAI\n",
    "\n",
    "client = OpenAI()\n",
    "\n",
    "response = client.responses.create(\n",
    "    model=\"gpt-5-nano\",\n",
    "    input=\"Write a haiku about recursion in programming.\"\n",
    ")\n",
    "\n",
    "print(response.output[-1].content[0].text) "
   ]
  },
  {
   "cell_type": "code",
   "execution_count": 3,
   "id": "305cbcc7",
   "metadata": {},
   "outputs": [
    {
     "name": "stdout",
     "output_type": "stream",
     "text": [
      "Recursive whispers\n",
      "Until a base case is found\n",
      "Or it ends again\n"
     ]
    }
   ],
   "source": [
    "import datetime as dt\n",
    "\n",
    "from agents import Agent, Runner\n",
    "\n",
    "load_dotenv()\n",
    "\n",
    "agent = Agent(name=\"Assistant\", instructions=\"You are a helpful assistant\", model=\"gpt-5-nano\")\n",
    "\n",
    "result = await Runner.run(agent, \"Write a haiku about recursion in programming.\")\n",
    "print(result.final_output)"
   ]
  },
  {
   "cell_type": "code",
   "execution_count": 4,
   "id": "fc446252",
   "metadata": {},
   "outputs": [
    {
     "name": "stdout",
     "output_type": "stream",
     "text": [
      "San Francisco.\n"
     ]
    }
   ],
   "source": [
    "agent = Agent(name=\"Assistant\", instructions=\"Reply very concisely.\")\n",
    "\n",
    "result = await Runner.run(agent, \"What city is the Golden Gate Bridge in?\")\n",
    "print(result.final_output)"
   ]
  },
  {
   "cell_type": "markdown",
   "id": "1dcb4c7d",
   "metadata": {},
   "source": [
    "# Tool use"
   ]
  },
  {
   "cell_type": "code",
   "execution_count": 5,
   "id": "f6ab005a",
   "metadata": {},
   "outputs": [
    {
     "name": "stdout",
     "output_type": "stream",
     "text": [
      "I can’t provide real-time weather updates. Please check a weather website or app for current London weather.\n"
     ]
    }
   ],
   "source": [
    "result = await Runner.run(agent, \"What is the weather in London?\")\n",
    "print(result.final_output)"
   ]
  },
  {
   "cell_type": "code",
   "execution_count": 6,
   "id": "245849dd",
   "metadata": {},
   "outputs": [],
   "source": [
    "def get_weather(city: str) -> str:\n",
    "    \"\"\"returns weather info for the specified city.\"\"\"\n",
    "    return f\"The weather in {city} is sunny\""
   ]
  },
  {
   "cell_type": "code",
   "execution_count": 7,
   "id": "11532f9f",
   "metadata": {},
   "outputs": [],
   "source": [
    "from agents import Agent, function_tool\n",
    "\n",
    "@function_tool\n",
    "def get_weather(city: str) -> str:\n",
    "    \"\"\"returns weather info for the specified city.\"\"\"\n",
    "    return f\"The weather in {city} is sunny\"\n",
    "\n",
    "agent = Agent(\n",
    "    name=\"Haiku agent\",\n",
    "    instructions=\"Always respond in haiku form\",\n",
    "    model=\"gpt-5-nano\",\n",
    "    tools=[get_weather],\n",
    ")"
   ]
  },
  {
   "cell_type": "code",
   "execution_count": 8,
   "id": "9593ef9d",
   "metadata": {},
   "outputs": [
    {
     "name": "stdout",
     "output_type": "stream",
     "text": [
      "London wears bright sun\n",
      "cheerful streets glow in sunlight\n",
      "A warm hopeful day\n"
     ]
    }
   ],
   "source": [
    "result = await Runner.run(agent, \"What is the weather in London?\")\n",
    "print(result.final_output)"
   ]
  },
  {
   "cell_type": "markdown",
   "id": "daab7fa4",
   "metadata": {},
   "source": [
    "## LLM with tool use"
   ]
  },
  {
   "cell_type": "code",
   "execution_count": 9,
   "id": "360fc6e1",
   "metadata": {},
   "outputs": [],
   "source": [
    "weather_tool_def = {\n",
    "    \"type\": \"function\",\n",
    "    \"name\": \"get_weather\",\n",
    "    \"description\": \"Retrieves current weather for the given location.\",\n",
    "    \"parameters\": {\n",
    "        \"type\": \"object\",\n",
    "        \"properties\": {\n",
    "            \"location\": {\n",
    "                \"type\": \"string\",\n",
    "                \"description\": \"City and country e.g. London, United Kingdom\"\n",
    "            },\n",
    "            \"units\": {\n",
    "                \"type\": \"string\",\n",
    "                \"enum\": [\"celsius\", \"fahrenheit\"],\n",
    "                \"description\": \"Units the temperature will be returned in.\"\n",
    "            }\n",
    "        },\n",
    "        \"required\": [\"location\", \"units\"],\n",
    "        \"additionalProperties\": False\n",
    "    },\n",
    "    \"strict\": True\n",
    "}\n",
    "\n",
    "def get_weather(location: str, units: str) -> str:\n",
    "    \"\"\"returns weather info for the specified location and units.\"\"\"\n",
    "    return f\"The weather in {location} is sunny with a temperature of 20 degrees {units}.\"\n",
    "\n",
    "tool_registry = {\n",
    "    \"get_weather\": get_weather\n",
    "}\n"
   ]
  },
  {
   "cell_type": "code",
   "execution_count": 10,
   "id": "c9e607ed",
   "metadata": {},
   "outputs": [],
   "source": [
    "client = OpenAI()\n",
    "\n",
    "response = client.responses.create(\n",
    "    model=\"gpt-5-nano\",\n",
    "    input=\"What is the weather in London?\",\n",
    "    tools=[weather_tool_def]\n",
    ")\n"
   ]
  },
  {
   "cell_type": "code",
   "execution_count": 11,
   "id": "0f8e2a78",
   "metadata": {},
   "outputs": [
    {
     "name": "stdout",
     "output_type": "stream",
     "text": [
      "ResponseFunctionToolCall(arguments='{\"location\":\"London, United Kingdom\",\"units\":\"celsius\"}', call_id='call_YXUqiJlBOMt4KePCZUf4Tswg', name='get_weather', type='function_call', id='fc_0cba6b48de09cff20068e3a7f5c69c8190a00722ef52dfb7d6', status='completed')\n"
     ]
    }
   ],
   "source": [
    "print(response.output[-1])"
   ]
  },
  {
   "cell_type": "code",
   "execution_count": 12,
   "id": "099eb119",
   "metadata": {},
   "outputs": [
    {
     "name": "stdout",
     "output_type": "stream",
     "text": [
      "The weather in London, United Kingdom is sunny with a temperature of 20 degrees celsius.\n"
     ]
    }
   ],
   "source": [
    "import json\n",
    "\n",
    "if response.output[-1].type == \"function_call\":\n",
    "    fn_name = response.output[-1].name\n",
    "    arguments = json.loads(response.output[-1].arguments)\n",
    "    result = tool_registry[fn_name](**arguments)\n",
    "    print(result)\n",
    "else:\n",
    "    print(response.output[-1].content[0].text)"
   ]
  },
  {
   "cell_type": "markdown",
   "id": "1f0c5d4d",
   "metadata": {},
   "source": [
    "# Scheduling Agent\n",
    "\n",
    "We will build an Agent with access to email and calendar to help schedule meetings on behalf of the user.\n",
    "\n",
    "**Example conversation:**\n",
    "- Lock wants a meeting\n",
    "- Smith proposes a call\n",
    "- AI assistant handles scheduling automatically\n",
    "\n",
    "## Gmail and Calendar API"
   ]
  },
  {
   "cell_type": "code",
   "execution_count": 15,
   "id": "2c24b11ebf091423",
   "metadata": {},
   "outputs": [],
   "source": [
    "from agentor.integrations.google import GmailService, CalendarService, load_user_credentials\n",
    "from rich import print\n",
    "\n",
    "# Load your saved credentials\n",
    "creds = load_user_credentials(\"credentials.my_google_account.json\")\n",
    "\n",
    "gmail = GmailService(creds)\n",
    "calendar = CalendarService(creds)"
   ]
  },
  {
   "cell_type": "code",
   "execution_count": null,
   "id": "2a9746f9",
   "metadata": {},
   "outputs": [],
   "source": [
    "print(\"List emails\", gmail.list_messages(limit=2))\n",
    "print(\"Get an email\", gmail.get_message(message_id=\"199a56838f299758\"))\n",
    "print(\"Get full email body\", gmail.get_message_body(message_id=\"199a56838f299758\"))"
   ]
  },
  {
   "cell_type": "code",
   "execution_count": null,
   "id": "6c1d6906",
   "metadata": {},
   "outputs": [],
   "source": [
    "print(\"Search emails\", gmail.search_messages(query=\"from:aniket\"))"
   ]
  },
  {
   "cell_type": "code",
   "execution_count": null,
   "id": "91cd7557",
   "metadata": {},
   "outputs": [],
   "source": [
    "print(\"List calendar events\", calendar.list_events())"
   ]
  },
  {
   "cell_type": "code",
   "execution_count": null,
   "id": "112aa1f1",
   "metadata": {},
   "outputs": [],
   "source": [
    "event = {\n",
    "    \"summary\": \"OpenAI Academy - Agents SDK Session with Aniket\",\n",
    "    \"description\": \"I attended the OpenAI Academy live session on Agents SDK with Aniket\",\n",
    "    \"start\": dt.datetime(2025, 10, 6, 15, 0, tzinfo=dt.timezone.utc),\n",
    "    \"end\": dt.datetime(2025, 10, 6, 16, 0, tzinfo=dt.timezone.utc),\n",
    "    \"attendees\": [{\"email\": \"aniket@example.com\"}],\n",
    "}\n",
    "calendar.create_event(event=event)"
   ]
  },
  {
   "cell_type": "markdown",
   "id": "2f5a1e56",
   "metadata": {},
   "source": [
    "# Multi-Agent System\n",
    "\n",
    "Agent which interacts with user to schedule a meeting."
   ]
  },
  {
   "cell_type": "code",
   "execution_count": 20,
   "id": "3bf90471",
   "metadata": {},
   "outputs": [],
   "source": [
    "from openai.types.responses import ResponseTextDeltaEvent\n",
    "from agents import ItemHelpers"
   ]
  },
  {
   "cell_type": "code",
   "execution_count": 21,
   "id": "2fb76108",
   "metadata": {},
   "outputs": [
    {
     "data": {
      "text/html": [
       "<pre style=\"white-space:pre;overflow-x:auto;line-height:normal;font-family:Menlo,'DejaVu Sans Mono',consolas,'Courier New',monospace\"><span style=\"color: #008080; text-decoration-color: #008080; font-weight: bold\">2025</span>-<span style=\"color: #008080; text-decoration-color: #008080; font-weight: bold\">10</span>-06T<span style=\"color: #00ff00; text-decoration-color: #00ff00; font-weight: bold\">16:00:00</span>+<span style=\"color: #00ff00; text-decoration-color: #00ff00; font-weight: bold\">01:00</span> is booked for <span style=\"color: #008000; text-decoration-color: #008000\">'OpenAI Academy - Agents SDK Session with Aniket'</span>\n",
       "</pre>\n"
      ],
      "text/plain": [
       "\u001b[1;36m2025\u001b[0m-\u001b[1;36m10\u001b[0m-06T\u001b[1;92m16:00:00\u001b[0m+\u001b[1;92m01:00\u001b[0m is booked for \u001b[32m'OpenAI Academy - Agents SDK Session with Aniket'\u001b[0m\n"
      ]
     },
     "metadata": {},
     "output_type": "display_data"
    }
   ],
   "source": [
    "def view_availability(start: dt.datetime, end: dt.datetime) -> str:\n",
    "    return calendar.list_events(time_min=start, time_max=end)[\"events\"]\n",
    "\n",
    "availability = view_availability(dt.datetime(2025, 10, 6, 15, 0, tzinfo=dt.timezone.utc), dt.datetime(2025, 10, 6, 16, 0, tzinfo=dt.timezone.utc))[0]\n",
    "print(f\"{availability['start']['dateTime']} is booked for '{availability['summary']}'\")"
   ]
  },
  {
   "cell_type": "code",
   "execution_count": null,
   "id": "8785268b",
   "metadata": {},
   "outputs": [],
   "source": [
    "def book_meeting(summary:str, description:str, start: dt.datetime, end: dt.datetime, attendees: list[str]) -> str:\n",
    "    event = {\n",
    "        \"summary\": summary,\n",
    "        \"description\": description,\n",
    "        \"start\": start,\n",
    "        \"end\": end,\n",
    "        \"attendees\": attendees,\n",
    "        }\n",
    "    output = calendar.create_event(event=event)\n",
    "    return f\"Meeting booked successfully. Details: {output['event']}\"\n",
    "\n",
    "book_meeting(summary=\"OpenAI Academy - Agents SDK Session with Aniket\", description=\"I attended the OpenAI Academy live session on Agents SDK with Aniket\", start=dt.datetime(2025, 10, 6, 15, 0, tzinfo=dt.timezone.utc), end=dt.datetime(2025, 10, 6, 16, 0, tzinfo=dt.timezone.utc), attendees=[\"aniket@example.com\"])"
   ]
  },
  {
   "cell_type": "code",
   "execution_count": 23,
   "id": "4400ab6f",
   "metadata": {},
   "outputs": [],
   "source": [
    "@function_tool\n",
    "def view_availability(start: dt.datetime, end: dt.datetime) -> str:\n",
    "    \"\"\"Returns a list of events that overlap with the given time range. The output contains events booked on the calendar.\"\"\"\n",
    "    return calendar.list_events(time_min=start, time_max=end)[\"events\"]\n",
    "\n",
    "\n",
    "@function_tool\n",
    "def book_meeting(summary:str, description:str, start: dt.datetime, end: dt.datetime, attendees: list[str]) -> str:\n",
    "    \"\"\"Books a meeting on the calendar. The output contains the event details.\n",
    "    \n",
    "    Args:\n",
    "        summary: Summary of the meeting\n",
    "        description: Description of the meeting\n",
    "        start: Start time of the meeting\n",
    "        end: End time of the meeting\n",
    "        attendees: List of attendees emails\n",
    "    \"\"\"\n",
    "    event = {\n",
    "        \"summary\": summary,\n",
    "        \"description\": description,\n",
    "        \"start\": start,\n",
    "        \"end\": end,\n",
    "        \"attendees\": attendees,\n",
    "        }\n",
    "    output = calendar.create_event(event=event)\n",
    "    return f\"Meeting booked successfully. Details: {output['event']}\""
   ]
  },
  {
   "cell_type": "code",
   "execution_count": 24,
   "id": "56a53ecd",
   "metadata": {},
   "outputs": [],
   "source": [
    "calendar_agent = Agent(\n",
    "    name=\"Calendar Agent\",\n",
    "    instructions=\"You are a helpful assistant that can help schedule meetings on the calendar. You use sensible defaults for the meeting details.\",\n",
    "    model=\"gpt-5-mini\",\n",
    "    tools=[view_availability, book_meeting],\n",
    ")\n"
   ]
  },
  {
   "cell_type": "code",
   "execution_count": null,
   "id": "a9491749",
   "metadata": {},
   "outputs": [],
   "source": [
    "result = Runner.run_streamed(calendar_agent, \"I want to schedule a meeting with Aniket (aniket@example.com) on 6th October 2025 from 15:00 to 16:00 BST\")\n",
    "\n",
    "async for event in result.stream_events():\n",
    "    # We'll ignore the raw responses event deltas\n",
    "    if event.type == \"raw_response_event\":\n",
    "        continue\n",
    "    # When the agent updates, print that\n",
    "    elif event.type == \"agent_updated_stream_event\":\n",
    "        print(f\"Agent updated: {event.new_agent.name}\")\n",
    "        continue\n",
    "    # When items are generated, print them\n",
    "    elif event.type == \"run_item_stream_event\":\n",
    "        if event.item.type == \"tool_call_item\":\n",
    "            print(\"-- Tool was called\")\n",
    "        elif event.item.type == \"tool_call_output_item\":\n",
    "            print(f\"-- Tool output: {event.item.output}\")\n",
    "        elif event.item.type == \"message_output_item\":\n",
    "            print(f\"-- Message output:\\n {ItemHelpers.text_message_output(event.item)}\")\n",
    "        else:\n",
    "            pass  # Ignore other event types"
   ]
  },
  {
   "cell_type": "markdown",
   "id": "a2c871fd",
   "metadata": {},
   "source": [
    "## Orchestrating multiple agents\n",
    "\n",
    "\n",
    "**Example:**\n",
    "- Schedule meeting\n",
    "- Send email reminders\n",
    "\n",
    "### Handoff Agents"
   ]
  },
  {
   "cell_type": "code",
   "execution_count": 26,
   "id": "0d685d93",
   "metadata": {},
   "outputs": [],
   "source": [
    "calendar_agent = Agent(\n",
    "    name=\"Calendar Agent\",\n",
    "    instructions=\"You are a helpful assistant that can help schedule meetings on the calendar. You use sensible defaults for the meeting details.\",\n",
    "    model=\"gpt-5-mini\",\n",
    "    tools=[view_availability, book_meeting],\n",
    ")\n",
    "\n",
    "@function_tool\n",
    "def send_email(to: str, subject: str, body: str) -> str:\n",
    "    \"\"\"Sends an email to the specified recipient. The output contains the email details.\"\"\"\n",
    "    return f\"Email sent successfully. Details: {to}, {subject}, {body}\"\n",
    "\n",
    "email_agent = Agent(\n",
    "    name=\"Email Agent\",\n",
    "    instructions=\"You are a helpful assistant that can send emails. You use sensible defaults for the email content.\",\n",
    "    model=\"gpt-5-mini\",\n",
    "    tools=[send_email],\n",
    ")\n",
    "\n",
    "\n",
    "triage_agent = Agent(\n",
    "    name=\"triage_agent\",\n",
    "    instructions=\"Handoff to the appropriate agent based on the user's request.\",\n",
    "    handoffs=[email_agent, calendar_agent],\n",
    ")\n"
   ]
  },
  {
   "cell_type": "code",
   "execution_count": 27,
   "id": "f753a1aa",
   "metadata": {},
   "outputs": [],
   "source": [
    "from agents import run_demo_loop\n",
    "await run_demo_loop(triage_agent)"
   ]
  },
  {
   "cell_type": "markdown",
   "id": "a73d63dd",
   "metadata": {},
   "source": [
    "## Agents as tools\n"
   ]
  },
  {
   "cell_type": "code",
   "execution_count": 28,
   "id": "e53a2ee5",
   "metadata": {},
   "outputs": [],
   "source": [
    "calendar_agent = Agent(\n",
    "    name=\"Calendar Agent\",\n",
    "    instructions=\"You are a helpful assistant that can help schedule meetings on the calendar. You use sensible defaults for the meeting details.\",\n",
    "    model=\"gpt-5-mini\",\n",
    "    tools=[view_availability, book_meeting],\n",
    ")\n",
    "\n",
    "@function_tool\n",
    "def send_email(to: str, subject: str, body: str) -> str:\n",
    "    \"\"\"Sends an email to the specified recipient. The output contains the email details.\"\"\"\n",
    "    return f\"Email sent successfully. Details: {to}, {subject}, {body}\"\n",
    "\n",
    "email_agent = Agent(\n",
    "    name=\"Email Agent\",\n",
    "    instructions=\"You are a helpful assistant that can send emails. You use sensible defaults for the email content.\",\n",
    "    model=\"gpt-5-mini\",\n",
    "    tools=[send_email],\n",
    ")\n",
    "\n",
    "\n",
    "triage_agent = Agent(\n",
    "    name=\"triage_agent\",\n",
    "    instructions=\"Use the tools provided to help the user with their request.\",\n",
    "    tools = [\n",
    "        email_agent.as_tool(tool_name=\"send_email\", tool_description=\"Send an email to the specified recipient. The output contains the email details.\"), \n",
    "        calendar_agent.as_tool(tool_name=\"calendar_manager\", tool_description=\"Schedule a meeting on the calendar. The output contains the event details.\")\n",
    "        ]\n",
    ")\n",
    "\n",
    "from agents import run_demo_loop\n",
    "await run_demo_loop(triage_agent)"
   ]
  },
  {
   "cell_type": "code",
   "execution_count": null,
   "id": "4f6e2fbb",
   "metadata": {},
   "outputs": [],
   "source": []
  }
 ],
 "metadata": {
  "kernelspec": {
   "display_name": "Python 3 (ipykernel)",
   "language": "python",
   "name": "python3"
  },
  "language_info": {
   "codemirror_mode": {
    "name": "ipython",
    "version": 3
   },
   "file_extension": ".py",
   "mimetype": "text/x-python",
   "name": "python",
   "nbconvert_exporter": "python",
   "pygments_lexer": "ipython3",
   "version": "3.13.5"
  }
 },
 "nbformat": 4,
 "nbformat_minor": 5
}
