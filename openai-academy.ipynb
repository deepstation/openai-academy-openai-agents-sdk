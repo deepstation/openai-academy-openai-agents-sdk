{
 "cells": [
  {
   "cell_type": "markdown",
   "id": "08c90c7f",
   "metadata": {},
   "source": [
    "# OpenAI Academy\n",
    "\n",
    "[![Static Badge](https://img.shields.io/badge/Open%20in%20Modal%20-%20Agents?style=for-the-badge&color=green)](https://modal.com/notebooks/new/https://github.com/CelestoAI/agentor/blob/main/examples/openai-academy.ipynb)\n",
    "\n",
    "\n",
    "## Agents with examples"
   ]
  },
  {
   "cell_type": "code",
   "execution_count": 1,
   "id": "5c8ad9e1",
   "metadata": {},
   "outputs": [],
   "source": [
    "# %uv pip install openai-agents==0.3.3 agentor"
   ]
  },
  {
   "cell_type": "markdown",
   "id": "a4df4611",
   "metadata": {},
   "source": [
    "## What is an Agent?\n",
    "\n",
    "<img src=\"https://i.imgflip.com/a7rr5a.jpg\" width=\"250px\">\n",
    "\n",
    "<br>\n",
    "\n",
    "## Agents are LLMs with higher autonomy\n",
    "\n",
    "- Tool access\n",
    "- Memory"
   ]
  },
  {
   "cell_type": "code",
   "execution_count": 2,
   "id": "b058fc10",
   "metadata": {},
   "outputs": [
    {
     "name": "stdout",
     "output_type": "stream",
     "text": [
      "Calls itself again\n",
      "until the base case ends, then\n",
      "returns to the call\n"
     ]
    }
   ],
   "source": [
    "from dotenv import load_dotenv\n",
    "from openai import OpenAI\n",
    "\n",
    "client = OpenAI()\n",
    "\n",
    "response = client.responses.create(\n",
    "    model=\"gpt-5-nano\",\n",
    "    input=\"Write a haiku about recursion in programming.\"\n",
    ")\n",
    "\n",
    "print(response.output[-1].content[0].text) "
   ]
  },
  {
   "cell_type": "code",
   "execution_count": 3,
   "id": "305cbcc7",
   "metadata": {},
   "outputs": [
    {
     "name": "stdout",
     "output_type": "stream",
     "text": [
      "Recursive whispers\n",
      "Until a base case is found\n",
      "Or it ends again\n"
     ]
    }
   ],
   "source": [
    "import datetime as dt\n",
    "\n",
    "from agents import Agent, Runner\n",
    "\n",
    "load_dotenv()\n",
    "\n",
    "agent = Agent(name=\"Assistant\", instructions=\"You are a helpful assistant\", model=\"gpt-5-nano\")\n",
    "\n",
    "result = await Runner.run(agent, \"Write a haiku about recursion in programming.\")\n",
    "print(result.final_output)"
   ]
  },
  {
   "cell_type": "code",
   "execution_count": 4,
   "id": "fc446252",
   "metadata": {},
   "outputs": [
    {
     "name": "stdout",
     "output_type": "stream",
     "text": [
      "San Francisco.\n"
     ]
    }
   ],
   "source": [
    "agent = Agent(name=\"Assistant\", instructions=\"Reply very concisely.\")\n",
    "\n",
    "result = await Runner.run(agent, \"What city is the Golden Gate Bridge in?\")\n",
    "print(result.final_output)"
   ]
  },
  {
   "cell_type": "markdown",
   "id": "1dcb4c7d",
   "metadata": {},
   "source": [
    "# Tool use"
   ]
  },
  {
   "cell_type": "code",
   "execution_count": 5,
   "id": "f6ab005a",
   "metadata": {},
   "outputs": [
    {
     "name": "stdout",
     "output_type": "stream",
     "text": [
      "I can’t provide real-time weather updates. Please check a weather website or app for current London weather.\n"
     ]
    }
   ],
   "source": [
    "result = await Runner.run(agent, \"What is the weather in London?\")\n",
    "print(result.final_output)"
   ]
  },
  {
   "cell_type": "code",
   "execution_count": 6,
   "id": "245849dd",
   "metadata": {},
   "outputs": [],
   "source": [
    "def get_weather(city: str) -> str:\n",
    "    \"\"\"returns weather info for the specified city.\"\"\"\n",
    "    return f\"The weather in {city} is sunny\""
   ]
  },
  {
   "cell_type": "code",
   "execution_count": 7,
   "id": "11532f9f",
   "metadata": {},
   "outputs": [],
   "source": [
    "from agents import Agent, function_tool\n",
    "\n",
    "@function_tool\n",
    "def get_weather(city: str) -> str:\n",
    "    \"\"\"returns weather info for the specified city.\"\"\"\n",
    "    return f\"The weather in {city} is sunny\"\n",
    "\n",
    "agent = Agent(\n",
    "    name=\"Haiku agent\",\n",
    "    instructions=\"Always respond in haiku form\",\n",
    "    model=\"gpt-5-nano\",\n",
    "    tools=[get_weather],\n",
    ")"
   ]
  },
  {
   "cell_type": "code",
   "execution_count": 8,
   "id": "9593ef9d",
   "metadata": {},
   "outputs": [
    {
     "name": "stdout",
     "output_type": "stream",
     "text": [
      "London wears bright sun\n",
      "cheerful streets glow in sunlight\n",
      "A warm hopeful day\n"
     ]
    }
   ],
   "source": [
    "result = await Runner.run(agent, \"What is the weather in London?\")\n",
    "print(result.final_output)"
   ]
  },
  {
   "cell_type": "markdown",
   "id": "daab7fa4",
   "metadata": {},
   "source": [
    "## LLM with tool use"
   ]
  },
  {
   "cell_type": "code",
   "execution_count": 9,
   "id": "360fc6e1",
   "metadata": {},
   "outputs": [],
   "source": [
    "weather_tool_def = {\n",
    "    \"type\": \"function\",\n",
    "    \"name\": \"get_weather\",\n",
    "    \"description\": \"Retrieves current weather for the given location.\",\n",
    "    \"parameters\": {\n",
    "        \"type\": \"object\",\n",
    "        \"properties\": {\n",
    "            \"location\": {\n",
    "                \"type\": \"string\",\n",
    "                \"description\": \"City and country e.g. London, United Kingdom\"\n",
    "            },\n",
    "            \"units\": {\n",
    "                \"type\": \"string\",\n",
    "                \"enum\": [\"celsius\", \"fahrenheit\"],\n",
    "                \"description\": \"Units the temperature will be returned in.\"\n",
    "            }\n",
    "        },\n",
    "        \"required\": [\"location\", \"units\"],\n",
    "        \"additionalProperties\": False\n",
    "    },\n",
    "    \"strict\": True\n",
    "}\n",
    "\n",
    "def get_weather(location: str, units: str) -> str:\n",
    "    \"\"\"returns weather info for the specified location and units.\"\"\"\n",
    "    return f\"The weather in {location} is sunny with a temperature of 20 degrees {units}.\"\n",
    "\n",
    "tool_registry = {\n",
    "    \"get_weather\": get_weather\n",
    "}\n"
   ]
  },
  {
   "cell_type": "code",
   "execution_count": 10,
   "id": "c9e607ed",
   "metadata": {},
   "outputs": [],
   "source": [
    "client = OpenAI()\n",
    "\n",
    "response = client.responses.create(\n",
    "    model=\"gpt-5-nano\",\n",
    "    input=\"What is the weather in London?\",\n",
    "    tools=[weather_tool_def]\n",
    ")\n"
   ]
  },
  {
   "cell_type": "code",
   "execution_count": 11,
   "id": "0f8e2a78",
   "metadata": {},
   "outputs": [
    {
     "name": "stdout",
     "output_type": "stream",
     "text": [
      "ResponseFunctionToolCall(arguments='{\"location\":\"London, United Kingdom\",\"units\":\"celsius\"}', call_id='call_YXUqiJlBOMt4KePCZUf4Tswg', name='get_weather', type='function_call', id='fc_0cba6b48de09cff20068e3a7f5c69c8190a00722ef52dfb7d6', status='completed')\n"
     ]
    }
   ],
   "source": [
    "print(response.output[-1])"
   ]
  },
  {
   "cell_type": "code",
   "execution_count": 12,
   "id": "099eb119",
   "metadata": {},
   "outputs": [
    {
     "name": "stdout",
     "output_type": "stream",
     "text": [
      "The weather in London, United Kingdom is sunny with a temperature of 20 degrees celsius.\n"
     ]
    }
   ],
   "source": [
    "import json\n",
    "\n",
    "if response.output[-1].type == \"function_call\":\n",
    "    fn_name = response.output[-1].name\n",
    "    arguments = json.loads(response.output[-1].arguments)\n",
    "    result = tool_registry[fn_name](**arguments)\n",
    "    print(result)\n",
    "else:\n",
    "    print(response.output[-1].content[0].text)"
   ]
  },
  {
   "cell_type": "markdown",
   "id": "1f0c5d4d",
   "metadata": {},
   "source": [
    "# Scheduling Agent\n",
    "\n",
    "We will build an Agent with access to email and calendar to help schedule meetings on behalf of the user.\n",
    "\n",
    "**Example conversation:**\n",
    "- Lock wants a meeting\n",
    "- Smith proposes a call\n",
    "- AI assistant handles scheduling automatically\n",
    "\n",
    "## Gmail and Calendar API"
   ]
  },
  {
   "cell_type": "code",
   "execution_count": 15,
   "id": "2c24b11ebf091423",
   "metadata": {},
   "outputs": [],
   "source": [
    "from agentor.integrations.google import GmailService, CalendarService, load_user_credentials\n",
    "from rich import print\n",
    "\n",
    "# Load your saved credentials\n",
    "creds = load_user_credentials(\"credentials.my_google_account.json\")\n",
    "\n",
    "gmail = GmailService(creds)\n",
    "calendar = CalendarService(creds)"
   ]
  },
  {
   "cell_type": "code",
   "execution_count": 16,
   "id": "2a9746f9",
   "metadata": {},
   "outputs": [
    {
     "data": {
      "text/html": [
       "<pre style=\"white-space:pre;overflow-x:auto;line-height:normal;font-family:Menlo,'DejaVu Sans Mono',consolas,'Courier New',monospace\">List emails\n",
       "<span style=\"font-weight: bold\">{</span>\n",
       "    <span style=\"color: #008000; text-decoration-color: #008000\">'messages'</span>: <span style=\"font-weight: bold\">[</span>\n",
       "        <span style=\"font-weight: bold\">{</span><span style=\"color: #008000; text-decoration-color: #008000\">'id'</span>: <span style=\"color: #008000; text-decoration-color: #008000\">'199b7741b06c4180'</span>, <span style=\"color: #008000; text-decoration-color: #008000\">'threadId'</span>: <span style=\"color: #008000; text-decoration-color: #008000\">'199b7741b06c4180'</span><span style=\"font-weight: bold\">}</span>,\n",
       "        <span style=\"font-weight: bold\">{</span><span style=\"color: #008000; text-decoration-color: #008000\">'id'</span>: <span style=\"color: #008000; text-decoration-color: #008000\">'199b58b30f5a36a7'</span>, <span style=\"color: #008000; text-decoration-color: #008000\">'threadId'</span>: <span style=\"color: #008000; text-decoration-color: #008000\">'199b58b30f5a36a7'</span><span style=\"font-weight: bold\">}</span>\n",
       "    <span style=\"font-weight: bold\">]</span>,\n",
       "    <span style=\"color: #008000; text-decoration-color: #008000\">'nextPageToken'</span>: <span style=\"color: #008000; text-decoration-color: #008000\">'12072878687732764253'</span>\n",
       "<span style=\"font-weight: bold\">}</span>\n",
       "</pre>\n"
      ],
      "text/plain": [
       "List emails\n",
       "\u001b[1m{\u001b[0m\n",
       "    \u001b[32m'messages'\u001b[0m: \u001b[1m[\u001b[0m\n",
       "        \u001b[1m{\u001b[0m\u001b[32m'id'\u001b[0m: \u001b[32m'199b7741b06c4180'\u001b[0m, \u001b[32m'threadId'\u001b[0m: \u001b[32m'199b7741b06c4180'\u001b[0m\u001b[1m}\u001b[0m,\n",
       "        \u001b[1m{\u001b[0m\u001b[32m'id'\u001b[0m: \u001b[32m'199b58b30f5a36a7'\u001b[0m, \u001b[32m'threadId'\u001b[0m: \u001b[32m'199b58b30f5a36a7'\u001b[0m\u001b[1m}\u001b[0m\n",
       "    \u001b[1m]\u001b[0m,\n",
       "    \u001b[32m'nextPageToken'\u001b[0m: \u001b[32m'12072878687732764253'\u001b[0m\n",
       "\u001b[1m}\u001b[0m\n"
      ]
     },
     "metadata": {},
     "output_type": "display_data"
    },
    {
     "data": {
      "text/html": [
       "<pre style=\"white-space:pre;overflow-x:auto;line-height:normal;font-family:Menlo,'DejaVu Sans Mono',consolas,'Courier New',monospace\">Get an email\n",
       "<span style=\"font-weight: bold\">{</span>\n",
       "    <span style=\"color: #008000; text-decoration-color: #008000\">'message'</span>: <span style=\"font-weight: bold\">{</span>\n",
       "        <span style=\"color: #008000; text-decoration-color: #008000\">'id'</span>: <span style=\"color: #008000; text-decoration-color: #008000\">'199a56838f299758'</span>,\n",
       "        <span style=\"color: #008000; text-decoration-color: #008000\">'threadId'</span>: <span style=\"color: #008000; text-decoration-color: #008000\">'199a5672da2b36c4'</span>,\n",
       "        <span style=\"color: #008000; text-decoration-color: #008000\">'subject'</span>: <span style=\"color: #008000; text-decoration-color: #008000\">'Register for OpenAI Academy livestream'</span>,\n",
       "        <span style=\"color: #008000; text-decoration-color: #008000\">'from'</span>: <span style=\"color: #008000; text-decoration-color: #008000\">'An Moriarty &lt;moriartyany@gmail.com&gt;'</span><span style=\"color: #000000; text-decoration-color: #000000\">,</span>\n",
       "<span style=\"color: #000000; text-decoration-color: #000000\">        </span><span style=\"color: #008000; text-decoration-color: #008000\">'to'</span><span style=\"color: #000000; text-decoration-color: #000000\">: </span><span style=\"color: #008000; text-decoration-color: #008000\">'Aniket Maurya &lt;theaniketmaurya@gmail.com&gt;'</span>,\n",
       "        <span style=\"color: #008000; text-decoration-color: #008000\">'cc'</span>: <span style=\"color: #008000; text-decoration-color: #008000\">''</span>,\n",
       "        <span style=\"color: #008000; text-decoration-color: #008000\">'date'</span>: <span style=\"color: #008000; text-decoration-color: #008000\">'Thu, 2 Oct 2025 15:51:34 +0100'</span>,\n",
       "        <span style=\"color: #008000; text-decoration-color: #008000\">'snippet'</span>: <span style=\"color: #008000; text-decoration-color: #008000\">'Hi Aniket, Register for OpenAI Academy livestream to learn about Agentic systems. It&amp;#39;s </span>\n",
       "<span style=\"color: #008000; text-decoration-color: #008000\">online and free! Thanks, Aniket'</span>,\n",
       "        <span style=\"color: #008000; text-decoration-color: #008000\">'labels'</span>: <span style=\"font-weight: bold\">[</span><span style=\"color: #008000; text-decoration-color: #008000\">'SENT'</span><span style=\"font-weight: bold\">]</span>\n",
       "    <span style=\"font-weight: bold\">}</span>\n",
       "<span style=\"font-weight: bold\">}</span>\n",
       "</pre>\n"
      ],
      "text/plain": [
       "Get an email\n",
       "\u001b[1m{\u001b[0m\n",
       "    \u001b[32m'message'\u001b[0m: \u001b[1m{\u001b[0m\n",
       "        \u001b[32m'id'\u001b[0m: \u001b[32m'199a56838f299758'\u001b[0m,\n",
       "        \u001b[32m'threadId'\u001b[0m: \u001b[32m'199a5672da2b36c4'\u001b[0m,\n",
       "        \u001b[32m'subject'\u001b[0m: \u001b[32m'Register for OpenAI Academy livestream'\u001b[0m,\n",
       "        \u001b[32m'from'\u001b[0m: \u001b[32m'An Moriarty \u001b[0m\u001b[32m<\u001b[0m\u001b[32mmoriartyany\u001b[0m\u001b[32m@gmail.com>'\u001b[0m\u001b[39m,\u001b[0m\n",
       "\u001b[39m        \u001b[0m\u001b[32m'to'\u001b[0m\u001b[39m: \u001b[0m\u001b[32m'Aniket Maurya <theaniketmaurya@gmail.com\u001b[0m\u001b[32m>\u001b[0m\u001b[32m'\u001b[0m,\n",
       "        \u001b[32m'cc'\u001b[0m: \u001b[32m''\u001b[0m,\n",
       "        \u001b[32m'date'\u001b[0m: \u001b[32m'Thu, 2 Oct 2025 15:51:34 +0100'\u001b[0m,\n",
       "        \u001b[32m'snippet'\u001b[0m: \u001b[32m'Hi Aniket, Register for OpenAI Academy livestream to learn about Agentic systems. It&#39;s \u001b[0m\n",
       "\u001b[32monline and free! Thanks, Aniket'\u001b[0m,\n",
       "        \u001b[32m'labels'\u001b[0m: \u001b[1m[\u001b[0m\u001b[32m'SENT'\u001b[0m\u001b[1m]\u001b[0m\n",
       "    \u001b[1m}\u001b[0m\n",
       "\u001b[1m}\u001b[0m\n"
      ]
     },
     "metadata": {},
     "output_type": "display_data"
    },
    {
     "data": {
      "text/html": [
       "<pre style=\"white-space:pre;overflow-x:auto;line-height:normal;font-family:Menlo,'DejaVu Sans Mono',consolas,'Courier New',monospace\">Get full email body\n",
       "<span style=\"font-weight: bold\">{</span>\n",
       "    <span style=\"color: #008000; text-decoration-color: #008000\">'id'</span>: <span style=\"color: #008000; text-decoration-color: #008000\">'199a56838f299758'</span>,\n",
       "    <span style=\"color: #008000; text-decoration-color: #008000\">'threadId'</span>: <span style=\"color: #008000; text-decoration-color: #008000\">'199a5672da2b36c4'</span>,\n",
       "    <span style=\"color: #008000; text-decoration-color: #008000\">'subject'</span>: <span style=\"color: #008000; text-decoration-color: #008000\">'Register for OpenAI Academy livestream'</span>,\n",
       "    <span style=\"color: #008000; text-decoration-color: #008000\">'from'</span>: <span style=\"color: #008000; text-decoration-color: #008000\">'An Moriarty &lt;moriartyany@gmail.com&gt;'</span><span style=\"color: #000000; text-decoration-color: #000000\">,</span>\n",
       "<span style=\"color: #000000; text-decoration-color: #000000\">    </span><span style=\"color: #008000; text-decoration-color: #008000\">'to'</span><span style=\"color: #000000; text-decoration-color: #000000\">: </span><span style=\"color: #008000; text-decoration-color: #008000\">'Aniket Maurya &lt;theaniketmaurya@gmail.com&gt;'</span>,\n",
       "    <span style=\"color: #008000; text-decoration-color: #008000\">'cc'</span>: <span style=\"color: #008000; text-decoration-color: #008000\">''</span>,\n",
       "    <span style=\"color: #008000; text-decoration-color: #008000\">'date'</span>: <span style=\"color: #008000; text-decoration-color: #008000\">'Thu, 2 Oct 2025 15:51:34 +0100'</span>,\n",
       "    <span style=\"color: #008000; text-decoration-color: #008000\">'snippet'</span>: <span style=\"color: #008000; text-decoration-color: #008000\">'Hi Aniket, Register for OpenAI Academy livestream to learn about Agentic systems. It&amp;#39;s online </span>\n",
       "<span style=\"color: #008000; text-decoration-color: #008000\">and free! Thanks, Aniket'</span>,\n",
       "    <span style=\"color: #008000; text-decoration-color: #008000\">'labels'</span>: <span style=\"font-weight: bold\">[</span><span style=\"color: #008000; text-decoration-color: #008000\">'SENT'</span><span style=\"font-weight: bold\">]</span>,\n",
       "    <span style=\"color: #008000; text-decoration-color: #008000\">'body_text'</span>: <span style=\"color: #008000; text-decoration-color: #008000\">\"Hi Aniket,\\r\\n\\r\\nRegister for OpenAI Academy livestream to learn about Agentic </span>\n",
       "<span style=\"color: #008000; text-decoration-color: #008000\">systems.\\r\\n\\r\\nIt's online and free!\\r\\n\\r\\nThanks,\\r\\nAniket\"</span>,\n",
       "    <span style=\"color: #008000; text-decoration-color: #008000\">'body_html'</span>: <span style=\"color: #800080; text-decoration-color: #800080; font-style: italic\">None</span>\n",
       "<span style=\"font-weight: bold\">}</span>\n",
       "</pre>\n"
      ],
      "text/plain": [
       "Get full email body\n",
       "\u001b[1m{\u001b[0m\n",
       "    \u001b[32m'id'\u001b[0m: \u001b[32m'199a56838f299758'\u001b[0m,\n",
       "    \u001b[32m'threadId'\u001b[0m: \u001b[32m'199a5672da2b36c4'\u001b[0m,\n",
       "    \u001b[32m'subject'\u001b[0m: \u001b[32m'Register for OpenAI Academy livestream'\u001b[0m,\n",
       "    \u001b[32m'from'\u001b[0m: \u001b[32m'An Moriarty \u001b[0m\u001b[32m<\u001b[0m\u001b[32mmoriartyany\u001b[0m\u001b[32m@gmail.com>'\u001b[0m\u001b[39m,\u001b[0m\n",
       "\u001b[39m    \u001b[0m\u001b[32m'to'\u001b[0m\u001b[39m: \u001b[0m\u001b[32m'Aniket Maurya <theaniketmaurya@gmail.com\u001b[0m\u001b[32m>\u001b[0m\u001b[32m'\u001b[0m,\n",
       "    \u001b[32m'cc'\u001b[0m: \u001b[32m''\u001b[0m,\n",
       "    \u001b[32m'date'\u001b[0m: \u001b[32m'Thu, 2 Oct 2025 15:51:34 +0100'\u001b[0m,\n",
       "    \u001b[32m'snippet'\u001b[0m: \u001b[32m'Hi Aniket, Register for OpenAI Academy livestream to learn about Agentic systems. It&#39;s online \u001b[0m\n",
       "\u001b[32mand free! Thanks, Aniket'\u001b[0m,\n",
       "    \u001b[32m'labels'\u001b[0m: \u001b[1m[\u001b[0m\u001b[32m'SENT'\u001b[0m\u001b[1m]\u001b[0m,\n",
       "    \u001b[32m'body_text'\u001b[0m: \u001b[32m\"Hi Aniket,\\r\\n\\r\\nRegister for OpenAI Academy livestream to learn about Agentic \u001b[0m\n",
       "\u001b[32msystems.\\r\\n\\r\\nIt's online and free!\\r\\n\\r\\nThanks,\\r\\nAniket\"\u001b[0m,\n",
       "    \u001b[32m'body_html'\u001b[0m: \u001b[3;35mNone\u001b[0m\n",
       "\u001b[1m}\u001b[0m\n"
      ]
     },
     "metadata": {},
     "output_type": "display_data"
    }
   ],
   "source": [
    "print(\"List emails\", gmail.list_messages(limit=2))\n",
    "print(\"Get an email\", gmail.get_message(message_id=\"199a56838f299758\"))\n",
    "print(\"Get full email body\", gmail.get_message_body(message_id=\"199a56838f299758\"))"
   ]
  },
  {
   "cell_type": "code",
   "execution_count": 17,
   "id": "6c1d6906",
   "metadata": {},
   "outputs": [
    {
     "data": {
      "text/html": [
       "<pre style=\"white-space:pre;overflow-x:auto;line-height:normal;font-family:Menlo,'DejaVu Sans Mono',consolas,'Courier New',monospace\">Search emails\n",
       "<span style=\"font-weight: bold\">{</span>\n",
       "    <span style=\"color: #008000; text-decoration-color: #008000\">'messages'</span>: <span style=\"font-weight: bold\">[</span>\n",
       "        <span style=\"font-weight: bold\">{</span>\n",
       "            <span style=\"color: #008000; text-decoration-color: #008000\">'id'</span>: <span style=\"color: #008000; text-decoration-color: #008000\">'199a72a5b1e277b4'</span>,\n",
       "            <span style=\"color: #008000; text-decoration-color: #008000\">'threadId'</span>: <span style=\"color: #008000; text-decoration-color: #008000\">'199a72a5b1e277b4'</span>,\n",
       "            <span style=\"color: #008000; text-decoration-color: #008000\">'subject'</span>: <span style=\"color: #008000; text-decoration-color: #008000\">'Declined: Weekly sync @ Mon Oct 6, 2025 4pm - 5pm (BST) (moriartyany@gmail.com)'</span>,\n",
       "            <span style=\"color: #008000; text-decoration-color: #008000\">'from'</span>: <span style=\"color: #008000; text-decoration-color: #008000\">'Aniket Maurya &lt;theaniketmaurya@gmail.com&gt;'</span><span style=\"color: #000000; text-decoration-color: #000000\">,</span>\n",
       "<span style=\"color: #000000; text-decoration-color: #000000\">            </span><span style=\"color: #008000; text-decoration-color: #008000\">'to'</span><span style=\"color: #000000; text-decoration-color: #000000\">: </span><span style=\"color: #008000; text-decoration-color: #008000\">'moriartyany@gmail.com'</span><span style=\"color: #000000; text-decoration-color: #000000\">,</span>\n",
       "<span style=\"color: #000000; text-decoration-color: #000000\">            </span><span style=\"color: #008000; text-decoration-color: #008000\">'cc'</span><span style=\"color: #000000; text-decoration-color: #000000\">: </span><span style=\"color: #008000; text-decoration-color: #008000\">''</span><span style=\"color: #000000; text-decoration-color: #000000\">,</span>\n",
       "<span style=\"color: #000000; text-decoration-color: #000000\">            </span><span style=\"color: #008000; text-decoration-color: #008000\">'date'</span><span style=\"color: #000000; text-decoration-color: #000000\">: </span><span style=\"color: #008000; text-decoration-color: #008000\">'Thu, 02 Oct 2025 23:03:14 +0000'</span><span style=\"color: #000000; text-decoration-color: #000000\">,</span>\n",
       "<span style=\"color: #000000; text-decoration-color: #000000\">            </span><span style=\"color: #008000; text-decoration-color: #008000\">'snippet'</span><span style=\"color: #000000; text-decoration-color: #000000\">: </span><span style=\"color: #008000; text-decoration-color: #008000\">'Weekly sync Aniket Maurya has declined this invitation. Process updates and blockers When </span>\n",
       "<span style=\"color: #008000; text-decoration-color: #008000\">Monday Oct 6, 2025 ⋅ 4pm – 5pm (United Kingdom Time) Organizer moriartyany@gmail.com Guests Aniket Maurya View'</span><span style=\"color: #000000; text-decoration-color: #000000\">,</span>\n",
       "<span style=\"color: #000000; text-decoration-color: #000000\">            </span><span style=\"color: #008000; text-decoration-color: #008000\">'labels'</span><span style=\"color: #000000; text-decoration-color: #000000\">: </span><span style=\"color: #000000; text-decoration-color: #000000; font-weight: bold\">[</span><span style=\"color: #008000; text-decoration-color: #008000\">'UNREAD'</span><span style=\"color: #000000; text-decoration-color: #000000\">, </span><span style=\"color: #008000; text-decoration-color: #008000\">'CATEGORY_PERSONAL'</span><span style=\"color: #000000; text-decoration-color: #000000\">, </span><span style=\"color: #008000; text-decoration-color: #008000\">'INBOX'</span><span style=\"color: #000000; text-decoration-color: #000000; font-weight: bold\">]</span>\n",
       "<span style=\"color: #000000; text-decoration-color: #000000\">        </span><span style=\"color: #000000; text-decoration-color: #000000; font-weight: bold\">}</span><span style=\"color: #000000; text-decoration-color: #000000\">,</span>\n",
       "<span style=\"color: #000000; text-decoration-color: #000000\">        </span><span style=\"color: #000000; text-decoration-color: #000000; font-weight: bold\">{</span>\n",
       "<span style=\"color: #000000; text-decoration-color: #000000\">            </span><span style=\"color: #008000; text-decoration-color: #008000\">'id'</span><span style=\"color: #000000; text-decoration-color: #000000\">: </span><span style=\"color: #008000; text-decoration-color: #008000\">'199a72a485fac91c'</span><span style=\"color: #000000; text-decoration-color: #000000\">,</span>\n",
       "<span style=\"color: #000000; text-decoration-color: #000000\">            </span><span style=\"color: #008000; text-decoration-color: #008000\">'threadId'</span><span style=\"color: #000000; text-decoration-color: #000000\">: </span><span style=\"color: #008000; text-decoration-color: #008000\">'199a72a485fac91c'</span><span style=\"color: #000000; text-decoration-color: #000000\">,</span>\n",
       "<span style=\"color: #000000; text-decoration-color: #000000\">            </span><span style=\"color: #008000; text-decoration-color: #008000\">'subject'</span><span style=\"color: #000000; text-decoration-color: #000000\">: </span><span style=\"color: #008000; text-decoration-color: #008000\">'Accepted: Weekly sync @ Mon Oct 6, 2025 4pm - 5pm (BST) (moriartyany@gmail.com)'</span><span style=\"color: #000000; text-decoration-color: #000000\">,</span>\n",
       "<span style=\"color: #000000; text-decoration-color: #000000\">            </span><span style=\"color: #008000; text-decoration-color: #008000\">'from'</span><span style=\"color: #000000; text-decoration-color: #000000\">: </span><span style=\"color: #008000; text-decoration-color: #008000\">'Aniket Maurya &lt;theaniketmaurya@gmail.com&gt;'</span>,\n",
       "            <span style=\"color: #008000; text-decoration-color: #008000\">'to'</span>: <span style=\"color: #008000; text-decoration-color: #008000\">'moriartyany@gmail.com'</span>,\n",
       "            <span style=\"color: #008000; text-decoration-color: #008000\">'cc'</span>: <span style=\"color: #008000; text-decoration-color: #008000\">''</span>,\n",
       "            <span style=\"color: #008000; text-decoration-color: #008000\">'date'</span>: <span style=\"color: #008000; text-decoration-color: #008000\">'Thu, 02 Oct 2025 23:03:09 +0000'</span>,\n",
       "            <span style=\"color: #008000; text-decoration-color: #008000\">'snippet'</span>: <span style=\"color: #008000; text-decoration-color: #008000\">'Weekly sync Aniket Maurya has accepted this invitation. Process updates and blockers When </span>\n",
       "<span style=\"color: #008000; text-decoration-color: #008000\">Monday Oct 6, 2025 ⋅ 4pm – 5pm (United Kingdom Time) Organizer moriartyany@gmail.com Guests Aniket Maurya View'</span>,\n",
       "            <span style=\"color: #008000; text-decoration-color: #008000\">'labels'</span>: <span style=\"font-weight: bold\">[</span><span style=\"color: #008000; text-decoration-color: #008000\">'UNREAD'</span>, <span style=\"color: #008000; text-decoration-color: #008000\">'CATEGORY_PERSONAL'</span>, <span style=\"color: #008000; text-decoration-color: #008000\">'INBOX'</span><span style=\"font-weight: bold\">]</span>\n",
       "        <span style=\"font-weight: bold\">}</span>,\n",
       "        <span style=\"font-weight: bold\">{</span>\n",
       "            <span style=\"color: #008000; text-decoration-color: #008000\">'id'</span>: <span style=\"color: #008000; text-decoration-color: #008000\">'199740379d7befd6'</span>,\n",
       "            <span style=\"color: #008000; text-decoration-color: #008000\">'threadId'</span>: <span style=\"color: #008000; text-decoration-color: #008000\">'199740379d7befd6'</span>,\n",
       "            <span style=\"color: #008000; text-decoration-color: #008000\">'subject'</span>: <span style=\"color: #008000; text-decoration-color: #008000\">'Welcome to Celesto AI'</span>,\n",
       "            <span style=\"color: #008000; text-decoration-color: #008000\">'from'</span>: <span style=\"color: #008000; text-decoration-color: #008000\">'aniket@celesto.ai'</span>,\n",
       "            <span style=\"color: #008000; text-decoration-color: #008000\">'to'</span>: <span style=\"color: #008000; text-decoration-color: #008000\">'moriartyany@gmail.com'</span>,\n",
       "            <span style=\"color: #008000; text-decoration-color: #008000\">'cc'</span>: <span style=\"color: #008000; text-decoration-color: #008000\">''</span>,\n",
       "            <span style=\"color: #008000; text-decoration-color: #008000\">'date'</span>: <span style=\"color: #008000; text-decoration-color: #008000\">'Tue, 23 Sep 2025 00:40:08 +0000'</span>,\n",
       "            <span style=\"color: #008000; text-decoration-color: #008000\">'snippet'</span>: <span style=\"color: #008000; text-decoration-color: #008000\">'Welcome to Celesto AI! Hi An Moriarty, Thanks for signing up for Celesto AI — we&amp;#39;re </span>\n",
       "<span style=\"color: #008000; text-decoration-color: #008000\">excited to have you on board! Celesto AI helps you work smarter with complex documents — whether it&amp;#39;s'</span>,\n",
       "            <span style=\"color: #008000; text-decoration-color: #008000\">'labels'</span>: <span style=\"font-weight: bold\">[</span><span style=\"color: #008000; text-decoration-color: #008000\">'CATEGORY_UPDATES'</span>, <span style=\"color: #008000; text-decoration-color: #008000\">'INBOX'</span><span style=\"font-weight: bold\">]</span>\n",
       "        <span style=\"font-weight: bold\">}</span>\n",
       "    <span style=\"font-weight: bold\">]</span>\n",
       "<span style=\"font-weight: bold\">}</span>\n",
       "</pre>\n"
      ],
      "text/plain": [
       "Search emails\n",
       "\u001b[1m{\u001b[0m\n",
       "    \u001b[32m'messages'\u001b[0m: \u001b[1m[\u001b[0m\n",
       "        \u001b[1m{\u001b[0m\n",
       "            \u001b[32m'id'\u001b[0m: \u001b[32m'199a72a5b1e277b4'\u001b[0m,\n",
       "            \u001b[32m'threadId'\u001b[0m: \u001b[32m'199a72a5b1e277b4'\u001b[0m,\n",
       "            \u001b[32m'subject'\u001b[0m: \u001b[32m'Declined: Weekly sync @ Mon Oct 6, 2025 4pm - 5pm \u001b[0m\u001b[32m(\u001b[0m\u001b[32mBST\u001b[0m\u001b[32m)\u001b[0m\u001b[32m \u001b[0m\u001b[32m(\u001b[0m\u001b[32mmoriartyany@gmail.com\u001b[0m\u001b[32m)\u001b[0m\u001b[32m'\u001b[0m,\n",
       "            \u001b[32m'from'\u001b[0m: \u001b[32m'Aniket Maurya \u001b[0m\u001b[32m<\u001b[0m\u001b[32mtheaniketmaurya\u001b[0m\u001b[32m@gmail.com>'\u001b[0m\u001b[39m,\u001b[0m\n",
       "\u001b[39m            \u001b[0m\u001b[32m'to'\u001b[0m\u001b[39m: \u001b[0m\u001b[32m'moriartyany@gmail.com'\u001b[0m\u001b[39m,\u001b[0m\n",
       "\u001b[39m            \u001b[0m\u001b[32m'cc'\u001b[0m\u001b[39m: \u001b[0m\u001b[32m''\u001b[0m\u001b[39m,\u001b[0m\n",
       "\u001b[39m            \u001b[0m\u001b[32m'date'\u001b[0m\u001b[39m: \u001b[0m\u001b[32m'Thu, 02 Oct 2025 23:03:14 +0000'\u001b[0m\u001b[39m,\u001b[0m\n",
       "\u001b[39m            \u001b[0m\u001b[32m'snippet'\u001b[0m\u001b[39m: \u001b[0m\u001b[32m'Weekly sync Aniket Maurya has declined this invitation. Process updates and blockers When \u001b[0m\n",
       "\u001b[32mMonday Oct 6, 2025 ⋅ 4pm – 5pm \u001b[0m\u001b[32m(\u001b[0m\u001b[32mUnited Kingdom Time\u001b[0m\u001b[32m)\u001b[0m\u001b[32m Organizer moriartyany@gmail.com Guests Aniket Maurya View'\u001b[0m\u001b[39m,\u001b[0m\n",
       "\u001b[39m            \u001b[0m\u001b[32m'labels'\u001b[0m\u001b[39m: \u001b[0m\u001b[1;39m[\u001b[0m\u001b[32m'UNREAD'\u001b[0m\u001b[39m, \u001b[0m\u001b[32m'CATEGORY_PERSONAL'\u001b[0m\u001b[39m, \u001b[0m\u001b[32m'INBOX'\u001b[0m\u001b[1;39m]\u001b[0m\n",
       "\u001b[39m        \u001b[0m\u001b[1;39m}\u001b[0m\u001b[39m,\u001b[0m\n",
       "\u001b[39m        \u001b[0m\u001b[1;39m{\u001b[0m\n",
       "\u001b[39m            \u001b[0m\u001b[32m'id'\u001b[0m\u001b[39m: \u001b[0m\u001b[32m'199a72a485fac91c'\u001b[0m\u001b[39m,\u001b[0m\n",
       "\u001b[39m            \u001b[0m\u001b[32m'threadId'\u001b[0m\u001b[39m: \u001b[0m\u001b[32m'199a72a485fac91c'\u001b[0m\u001b[39m,\u001b[0m\n",
       "\u001b[39m            \u001b[0m\u001b[32m'subject'\u001b[0m\u001b[39m: \u001b[0m\u001b[32m'Accepted: Weekly sync @ Mon Oct 6, 2025 4pm - 5pm \u001b[0m\u001b[32m(\u001b[0m\u001b[32mBST\u001b[0m\u001b[32m)\u001b[0m\u001b[32m \u001b[0m\u001b[32m(\u001b[0m\u001b[32mmoriartyany@gmail.com\u001b[0m\u001b[32m)\u001b[0m\u001b[32m'\u001b[0m\u001b[39m,\u001b[0m\n",
       "\u001b[39m            \u001b[0m\u001b[32m'from'\u001b[0m\u001b[39m: \u001b[0m\u001b[32m'Aniket Maurya <theaniketmaurya@gmail.com\u001b[0m\u001b[32m>\u001b[0m\u001b[32m'\u001b[0m,\n",
       "            \u001b[32m'to'\u001b[0m: \u001b[32m'moriartyany@gmail.com'\u001b[0m,\n",
       "            \u001b[32m'cc'\u001b[0m: \u001b[32m''\u001b[0m,\n",
       "            \u001b[32m'date'\u001b[0m: \u001b[32m'Thu, 02 Oct 2025 23:03:09 +0000'\u001b[0m,\n",
       "            \u001b[32m'snippet'\u001b[0m: \u001b[32m'Weekly sync Aniket Maurya has accepted this invitation. Process updates and blockers When \u001b[0m\n",
       "\u001b[32mMonday Oct 6, 2025 ⋅ 4pm – 5pm \u001b[0m\u001b[32m(\u001b[0m\u001b[32mUnited Kingdom Time\u001b[0m\u001b[32m)\u001b[0m\u001b[32m Organizer moriartyany@gmail.com Guests Aniket Maurya View'\u001b[0m,\n",
       "            \u001b[32m'labels'\u001b[0m: \u001b[1m[\u001b[0m\u001b[32m'UNREAD'\u001b[0m, \u001b[32m'CATEGORY_PERSONAL'\u001b[0m, \u001b[32m'INBOX'\u001b[0m\u001b[1m]\u001b[0m\n",
       "        \u001b[1m}\u001b[0m,\n",
       "        \u001b[1m{\u001b[0m\n",
       "            \u001b[32m'id'\u001b[0m: \u001b[32m'199740379d7befd6'\u001b[0m,\n",
       "            \u001b[32m'threadId'\u001b[0m: \u001b[32m'199740379d7befd6'\u001b[0m,\n",
       "            \u001b[32m'subject'\u001b[0m: \u001b[32m'Welcome to Celesto AI'\u001b[0m,\n",
       "            \u001b[32m'from'\u001b[0m: \u001b[32m'aniket@celesto.ai'\u001b[0m,\n",
       "            \u001b[32m'to'\u001b[0m: \u001b[32m'moriartyany@gmail.com'\u001b[0m,\n",
       "            \u001b[32m'cc'\u001b[0m: \u001b[32m''\u001b[0m,\n",
       "            \u001b[32m'date'\u001b[0m: \u001b[32m'Tue, 23 Sep 2025 00:40:08 +0000'\u001b[0m,\n",
       "            \u001b[32m'snippet'\u001b[0m: \u001b[32m'Welcome to Celesto AI! Hi An Moriarty, Thanks for signing up for Celesto AI — we&#39;re \u001b[0m\n",
       "\u001b[32mexcited to have you on board! Celesto AI helps you work smarter with complex documents — whether it&#39;s'\u001b[0m,\n",
       "            \u001b[32m'labels'\u001b[0m: \u001b[1m[\u001b[0m\u001b[32m'CATEGORY_UPDATES'\u001b[0m, \u001b[32m'INBOX'\u001b[0m\u001b[1m]\u001b[0m\n",
       "        \u001b[1m}\u001b[0m\n",
       "    \u001b[1m]\u001b[0m\n",
       "\u001b[1m}\u001b[0m\n"
      ]
     },
     "metadata": {},
     "output_type": "display_data"
    }
   ],
   "source": [
    "print(\"Search emails\", gmail.search_messages(query=\"from:aniket\"))"
   ]
  },
  {
   "cell_type": "code",
   "execution_count": 18,
   "id": "91cd7557",
   "metadata": {},
   "outputs": [
    {
     "data": {
      "text/html": [
       "<pre style=\"white-space:pre;overflow-x:auto;line-height:normal;font-family:Menlo,'DejaVu Sans Mono',consolas,'Courier New',monospace\">List calendar events\n",
       "<span style=\"font-weight: bold\">{</span>\n",
       "    <span style=\"color: #008000; text-decoration-color: #008000\">'events'</span>: <span style=\"font-weight: bold\">[</span>\n",
       "        <span style=\"font-weight: bold\">{</span>\n",
       "            <span style=\"color: #008000; text-decoration-color: #008000\">'kind'</span>: <span style=\"color: #008000; text-decoration-color: #008000\">'calendar#event'</span>,\n",
       "            <span style=\"color: #008000; text-decoration-color: #008000\">'etag'</span>: <span style=\"color: #008000; text-decoration-color: #008000\">'\"3519401263064094\"'</span>,\n",
       "            <span style=\"color: #008000; text-decoration-color: #008000\">'id'</span>: <span style=\"color: #008000; text-decoration-color: #008000\">'i4k7k12aa7po2en136dlf843rg'</span>,\n",
       "            <span style=\"color: #008000; text-decoration-color: #008000\">'status'</span>: <span style=\"color: #008000; text-decoration-color: #008000\">'confirmed'</span>,\n",
       "            <span style=\"color: #008000; text-decoration-color: #008000\">'htmlLink'</span>: \n",
       "<span style=\"color: #008000; text-decoration-color: #008000\">'https://www.google.com/calendar/event?eid=aTRrN2sxMmFhN3BvMmVuMTM2ZGxmODQzcmcgbW9yaWFydHlhbnlAbQ'</span>,\n",
       "            <span style=\"color: #008000; text-decoration-color: #008000\">'created'</span>: <span style=\"color: #008000; text-decoration-color: #008000\">'2025-10-05T21:43:51.000Z'</span>,\n",
       "            <span style=\"color: #008000; text-decoration-color: #008000\">'updated'</span>: <span style=\"color: #008000; text-decoration-color: #008000\">'2025-10-05T21:43:51.532Z'</span>,\n",
       "            <span style=\"color: #008000; text-decoration-color: #008000\">'summary'</span>: <span style=\"color: #008000; text-decoration-color: #008000\">'Meeting with Aniket'</span>,\n",
       "            <span style=\"color: #008000; text-decoration-color: #008000\">'description'</span>: <span style=\"color: #008000; text-decoration-color: #008000\">'Scheduled via assistant.'</span>,\n",
       "            <span style=\"color: #008000; text-decoration-color: #008000\">'creator'</span>: <span style=\"font-weight: bold\">{</span><span style=\"color: #008000; text-decoration-color: #008000\">'email'</span>: <span style=\"color: #008000; text-decoration-color: #008000\">'moriartyany@gmail.com'</span>, <span style=\"color: #008000; text-decoration-color: #008000\">'self'</span>: <span style=\"color: #00ff00; text-decoration-color: #00ff00; font-style: italic\">True</span><span style=\"font-weight: bold\">}</span>,\n",
       "            <span style=\"color: #008000; text-decoration-color: #008000\">'organizer'</span>: <span style=\"font-weight: bold\">{</span><span style=\"color: #008000; text-decoration-color: #008000\">'email'</span>: <span style=\"color: #008000; text-decoration-color: #008000\">'moriartyany@gmail.com'</span>, <span style=\"color: #008000; text-decoration-color: #008000\">'self'</span>: <span style=\"color: #00ff00; text-decoration-color: #00ff00; font-style: italic\">True</span><span style=\"font-weight: bold\">}</span>,\n",
       "            <span style=\"color: #008000; text-decoration-color: #008000\">'start'</span>: <span style=\"font-weight: bold\">{</span><span style=\"color: #008000; text-decoration-color: #008000\">'dateTime'</span>: <span style=\"color: #008000; text-decoration-color: #008000\">'2025-10-06T16:00:00+01:00'</span>, <span style=\"color: #008000; text-decoration-color: #008000\">'timeZone'</span>: <span style=\"color: #008000; text-decoration-color: #008000\">'Europe/London'</span><span style=\"font-weight: bold\">}</span>,\n",
       "            <span style=\"color: #008000; text-decoration-color: #008000\">'end'</span>: <span style=\"font-weight: bold\">{</span><span style=\"color: #008000; text-decoration-color: #008000\">'dateTime'</span>: <span style=\"color: #008000; text-decoration-color: #008000\">'2025-10-06T17:00:00+01:00'</span>, <span style=\"color: #008000; text-decoration-color: #008000\">'timeZone'</span>: <span style=\"color: #008000; text-decoration-color: #008000\">'Europe/London'</span><span style=\"font-weight: bold\">}</span>,\n",
       "            <span style=\"color: #008000; text-decoration-color: #008000\">'iCalUID'</span>: <span style=\"color: #008000; text-decoration-color: #008000\">'i4k7k12aa7po2en136dlf843rg@google.com'</span>,\n",
       "            <span style=\"color: #008000; text-decoration-color: #008000\">'sequence'</span>: <span style=\"color: #008080; text-decoration-color: #008080; font-weight: bold\">0</span>,\n",
       "            <span style=\"color: #008000; text-decoration-color: #008000\">'reminders'</span>: <span style=\"font-weight: bold\">{</span><span style=\"color: #008000; text-decoration-color: #008000\">'useDefault'</span>: <span style=\"color: #00ff00; text-decoration-color: #00ff00; font-style: italic\">True</span><span style=\"font-weight: bold\">}</span>,\n",
       "            <span style=\"color: #008000; text-decoration-color: #008000\">'eventType'</span>: <span style=\"color: #008000; text-decoration-color: #008000\">'default'</span>\n",
       "        <span style=\"font-weight: bold\">}</span>\n",
       "    <span style=\"font-weight: bold\">]</span>,\n",
       "    <span style=\"color: #008000; text-decoration-color: #008000\">'nextPageToken'</span>: <span style=\"color: #800080; text-decoration-color: #800080; font-style: italic\">None</span>\n",
       "<span style=\"font-weight: bold\">}</span>\n",
       "</pre>\n"
      ],
      "text/plain": [
       "List calendar events\n",
       "\u001b[1m{\u001b[0m\n",
       "    \u001b[32m'events'\u001b[0m: \u001b[1m[\u001b[0m\n",
       "        \u001b[1m{\u001b[0m\n",
       "            \u001b[32m'kind'\u001b[0m: \u001b[32m'calendar#event'\u001b[0m,\n",
       "            \u001b[32m'etag'\u001b[0m: \u001b[32m'\"3519401263064094\"'\u001b[0m,\n",
       "            \u001b[32m'id'\u001b[0m: \u001b[32m'i4k7k12aa7po2en136dlf843rg'\u001b[0m,\n",
       "            \u001b[32m'status'\u001b[0m: \u001b[32m'confirmed'\u001b[0m,\n",
       "            \u001b[32m'htmlLink'\u001b[0m: \n",
       "\u001b[32m'https://www.google.com/calendar/event?\u001b[0m\u001b[32meid\u001b[0m\u001b[32m=\u001b[0m\u001b[32maTRrN2sxMmFhN3BvMmVuMTM2ZGxmODQzcmcgbW9yaWFydHlhbnlAbQ\u001b[0m\u001b[32m'\u001b[0m,\n",
       "            \u001b[32m'created'\u001b[0m: \u001b[32m'2025-10-05T21:43:51.000Z'\u001b[0m,\n",
       "            \u001b[32m'updated'\u001b[0m: \u001b[32m'2025-10-05T21:43:51.532Z'\u001b[0m,\n",
       "            \u001b[32m'summary'\u001b[0m: \u001b[32m'Meeting with Aniket'\u001b[0m,\n",
       "            \u001b[32m'description'\u001b[0m: \u001b[32m'Scheduled via assistant.'\u001b[0m,\n",
       "            \u001b[32m'creator'\u001b[0m: \u001b[1m{\u001b[0m\u001b[32m'email'\u001b[0m: \u001b[32m'moriartyany@gmail.com'\u001b[0m, \u001b[32m'self'\u001b[0m: \u001b[3;92mTrue\u001b[0m\u001b[1m}\u001b[0m,\n",
       "            \u001b[32m'organizer'\u001b[0m: \u001b[1m{\u001b[0m\u001b[32m'email'\u001b[0m: \u001b[32m'moriartyany@gmail.com'\u001b[0m, \u001b[32m'self'\u001b[0m: \u001b[3;92mTrue\u001b[0m\u001b[1m}\u001b[0m,\n",
       "            \u001b[32m'start'\u001b[0m: \u001b[1m{\u001b[0m\u001b[32m'dateTime'\u001b[0m: \u001b[32m'2025-10-06T16:00:00+01:00'\u001b[0m, \u001b[32m'timeZone'\u001b[0m: \u001b[32m'Europe/London'\u001b[0m\u001b[1m}\u001b[0m,\n",
       "            \u001b[32m'end'\u001b[0m: \u001b[1m{\u001b[0m\u001b[32m'dateTime'\u001b[0m: \u001b[32m'2025-10-06T17:00:00+01:00'\u001b[0m, \u001b[32m'timeZone'\u001b[0m: \u001b[32m'Europe/London'\u001b[0m\u001b[1m}\u001b[0m,\n",
       "            \u001b[32m'iCalUID'\u001b[0m: \u001b[32m'i4k7k12aa7po2en136dlf843rg@google.com'\u001b[0m,\n",
       "            \u001b[32m'sequence'\u001b[0m: \u001b[1;36m0\u001b[0m,\n",
       "            \u001b[32m'reminders'\u001b[0m: \u001b[1m{\u001b[0m\u001b[32m'useDefault'\u001b[0m: \u001b[3;92mTrue\u001b[0m\u001b[1m}\u001b[0m,\n",
       "            \u001b[32m'eventType'\u001b[0m: \u001b[32m'default'\u001b[0m\n",
       "        \u001b[1m}\u001b[0m\n",
       "    \u001b[1m]\u001b[0m,\n",
       "    \u001b[32m'nextPageToken'\u001b[0m: \u001b[3;35mNone\u001b[0m\n",
       "\u001b[1m}\u001b[0m\n"
      ]
     },
     "metadata": {},
     "output_type": "display_data"
    }
   ],
   "source": [
    "print(\"List calendar events\", calendar.list_events())"
   ]
  },
  {
   "cell_type": "code",
   "execution_count": 19,
   "id": "112aa1f1",
   "metadata": {},
   "outputs": [
    {
     "data": {
      "text/plain": [
       "{'event': {'kind': 'calendar#event',\n",
       "  'etag': '\"3519500772730046\"',\n",
       "  'id': 'bjqrn6n1fenei97n6clmk8affc',\n",
       "  'status': 'confirmed',\n",
       "  'htmlLink': 'https://www.google.com/calendar/event?eid=Ympxcm42bjFmZW5laTk3bjZjbG1rOGFmZmMgbW9yaWFydHlhbnlAbQ',\n",
       "  'created': '2025-10-06T11:33:06.000Z',\n",
       "  'updated': '2025-10-06T11:33:06.365Z',\n",
       "  'summary': 'OpenAI Academy - Agents SDK Session with Aniket',\n",
       "  'description': 'I attended the OpenAI Academy live session on Agents SDK with Aniket',\n",
       "  'creator': {'email': 'moriartyany@gmail.com', 'self': True},\n",
       "  'organizer': {'email': 'moriartyany@gmail.com', 'self': True},\n",
       "  'start': {'dateTime': '2025-10-06T16:00:00+01:00',\n",
       "   'timeZone': 'Europe/London'},\n",
       "  'end': {'dateTime': '2025-10-06T17:00:00+01:00',\n",
       "   'timeZone': 'Europe/London'},\n",
       "  'iCalUID': 'bjqrn6n1fenei97n6clmk8affc@google.com',\n",
       "  'sequence': 0,\n",
       "  'attendees': [{'email': 'aniket@example.com',\n",
       "    'responseStatus': 'needsAction'}],\n",
       "  'reminders': {'useDefault': True},\n",
       "  'eventType': 'default'}}"
      ]
     },
     "execution_count": 19,
     "metadata": {},
     "output_type": "execute_result"
    }
   ],
   "source": [
    "event = {\n",
    "    \"summary\": \"OpenAI Academy - Agents SDK Session with Aniket\",\n",
    "    \"description\": \"I attended the OpenAI Academy live session on Agents SDK with Aniket\",\n",
    "    \"start\": dt.datetime(2025, 10, 6, 15, 0, tzinfo=dt.timezone.utc),\n",
    "    \"end\": dt.datetime(2025, 10, 6, 16, 0, tzinfo=dt.timezone.utc),\n",
    "    \"attendees\": [{\"email\": \"aniket@example.com\"}],\n",
    "}\n",
    "calendar.create_event(event=event)"
   ]
  },
  {
   "cell_type": "markdown",
   "id": "2f5a1e56",
   "metadata": {},
   "source": [
    "# Multi-Agent System\n",
    "\n",
    "Agent which interacts with user to schedule a meeting."
   ]
  },
  {
   "cell_type": "code",
   "execution_count": 20,
   "id": "3bf90471",
   "metadata": {},
   "outputs": [],
   "source": [
    "from openai.types.responses import ResponseTextDeltaEvent\n",
    "from agents import ItemHelpers"
   ]
  },
  {
   "cell_type": "code",
   "execution_count": 21,
   "id": "2fb76108",
   "metadata": {},
   "outputs": [
    {
     "data": {
      "text/html": [
       "<pre style=\"white-space:pre;overflow-x:auto;line-height:normal;font-family:Menlo,'DejaVu Sans Mono',consolas,'Courier New',monospace\"><span style=\"color: #008080; text-decoration-color: #008080; font-weight: bold\">2025</span>-<span style=\"color: #008080; text-decoration-color: #008080; font-weight: bold\">10</span>-06T<span style=\"color: #00ff00; text-decoration-color: #00ff00; font-weight: bold\">16:00:00</span>+<span style=\"color: #00ff00; text-decoration-color: #00ff00; font-weight: bold\">01:00</span> is booked for <span style=\"color: #008000; text-decoration-color: #008000\">'OpenAI Academy - Agents SDK Session with Aniket'</span>\n",
       "</pre>\n"
      ],
      "text/plain": [
       "\u001b[1;36m2025\u001b[0m-\u001b[1;36m10\u001b[0m-06T\u001b[1;92m16:00:00\u001b[0m+\u001b[1;92m01:00\u001b[0m is booked for \u001b[32m'OpenAI Academy - Agents SDK Session with Aniket'\u001b[0m\n"
      ]
     },
     "metadata": {},
     "output_type": "display_data"
    }
   ],
   "source": [
    "def view_availability(start: dt.datetime, end: dt.datetime) -> str:\n",
    "    return calendar.list_events(time_min=start, time_max=end)[\"events\"]\n",
    "\n",
    "availability = view_availability(dt.datetime(2025, 10, 6, 15, 0, tzinfo=dt.timezone.utc), dt.datetime(2025, 10, 6, 16, 0, tzinfo=dt.timezone.utc))[0]\n",
    "print(f\"{availability['start']['dateTime']} is booked for '{availability['summary']}'\")"
   ]
  },
  {
   "cell_type": "code",
   "execution_count": 22,
   "id": "8785268b",
   "metadata": {},
   "outputs": [
    {
     "data": {
      "text/plain": [
       "'Meeting booked successfully. Details: {\\'kind\\': \\'calendar#event\\', \\'etag\\': \\'\"3519500774335070\"\\', \\'id\\': \\'jebm8n73qjimd4d691m94d76m0\\', \\'status\\': \\'confirmed\\', \\'htmlLink\\': \\'https://www.google.com/calendar/event?eid=amVibThuNzNxamltZDRkNjkxbTk0ZDc2bTAgbW9yaWFydHlhbnlAbQ\\', \\'created\\': \\'2025-10-06T11:33:07.000Z\\', \\'updated\\': \\'2025-10-06T11:33:07.167Z\\', \\'summary\\': \\'OpenAI Academy - Agents SDK Session with Aniket\\', \\'description\\': \\'I attended the OpenAI Academy live session on Agents SDK with Aniket\\', \\'creator\\': {\\'email\\': \\'moriartyany@gmail.com\\', \\'self\\': True}, \\'organizer\\': {\\'email\\': \\'moriartyany@gmail.com\\', \\'self\\': True}, \\'start\\': {\\'dateTime\\': \\'2025-10-06T16:00:00+01:00\\', \\'timeZone\\': \\'Europe/London\\'}, \\'end\\': {\\'dateTime\\': \\'2025-10-06T17:00:00+01:00\\', \\'timeZone\\': \\'Europe/London\\'}, \\'iCalUID\\': \\'jebm8n73qjimd4d691m94d76m0@google.com\\', \\'sequence\\': 0, \\'reminders\\': {\\'useDefault\\': True}, \\'eventType\\': \\'default\\'}'"
      ]
     },
     "execution_count": 22,
     "metadata": {},
     "output_type": "execute_result"
    }
   ],
   "source": [
    "def book_meeting(summary:str, description:str, start: dt.datetime, end: dt.datetime, attendees: list[str]) -> str:\n",
    "    event = {\n",
    "        \"summary\": summary,\n",
    "        \"description\": description,\n",
    "        \"start\": start,\n",
    "        \"end\": end,\n",
    "        \"attendees\": attendees,\n",
    "        }\n",
    "    output = calendar.create_event(event=event)\n",
    "    return f\"Meeting booked successfully. Details: {output['event']}\"\n",
    "\n",
    "book_meeting(summary=\"OpenAI Academy - Agents SDK Session with Aniket\", description=\"I attended the OpenAI Academy live session on Agents SDK with Aniket\", start=dt.datetime(2025, 10, 6, 15, 0, tzinfo=dt.timezone.utc), end=dt.datetime(2025, 10, 6, 16, 0, tzinfo=dt.timezone.utc), attendees=[\"aniket@example.com\"])"
   ]
  },
  {
   "cell_type": "code",
   "execution_count": 23,
   "id": "4400ab6f",
   "metadata": {},
   "outputs": [],
   "source": [
    "@function_tool\n",
    "def view_availability(start: dt.datetime, end: dt.datetime) -> str:\n",
    "    \"\"\"Returns a list of events that overlap with the given time range. The output contains events booked on the calendar.\"\"\"\n",
    "    return calendar.list_events(time_min=start, time_max=end)[\"events\"]\n",
    "\n",
    "\n",
    "@function_tool\n",
    "def book_meeting(summary:str, description:str, start: dt.datetime, end: dt.datetime, attendees: list[str]) -> str:\n",
    "    \"\"\"Books a meeting on the calendar. The output contains the event details.\n",
    "    \n",
    "    Args:\n",
    "        summary: Summary of the meeting\n",
    "        description: Description of the meeting\n",
    "        start: Start time of the meeting\n",
    "        end: End time of the meeting\n",
    "        attendees: List of attendees emails\n",
    "    \"\"\"\n",
    "    event = {\n",
    "        \"summary\": summary,\n",
    "        \"description\": description,\n",
    "        \"start\": start,\n",
    "        \"end\": end,\n",
    "        \"attendees\": attendees,\n",
    "        }\n",
    "    output = calendar.create_event(event=event)\n",
    "    return f\"Meeting booked successfully. Details: {output['event']}\""
   ]
  },
  {
   "cell_type": "code",
   "execution_count": 24,
   "id": "56a53ecd",
   "metadata": {},
   "outputs": [],
   "source": [
    "calendar_agent = Agent(\n",
    "    name=\"Calendar Agent\",\n",
    "    instructions=\"You are a helpful assistant that can help schedule meetings on the calendar. You use sensible defaults for the meeting details.\",\n",
    "    model=\"gpt-5-mini\",\n",
    "    tools=[view_availability, book_meeting],\n",
    ")\n"
   ]
  },
  {
   "cell_type": "code",
   "execution_count": 25,
   "id": "a9491749",
   "metadata": {},
   "outputs": [
    {
     "data": {
      "text/html": [
       "<pre style=\"white-space:pre;overflow-x:auto;line-height:normal;font-family:Menlo,'DejaVu Sans Mono',consolas,'Courier New',monospace\">Agent updated: Calendar Agent\n",
       "</pre>\n"
      ],
      "text/plain": [
       "Agent updated: Calendar Agent\n"
      ]
     },
     "metadata": {},
     "output_type": "display_data"
    },
    {
     "data": {
      "text/html": [
       "<pre style=\"white-space:pre;overflow-x:auto;line-height:normal;font-family:Menlo,'DejaVu Sans Mono',consolas,'Courier New',monospace\">-- Tool was called\n",
       "</pre>\n"
      ],
      "text/plain": [
       "-- Tool was called\n"
      ]
     },
     "metadata": {},
     "output_type": "display_data"
    },
    {
     "data": {
      "text/html": [
       "<pre style=\"white-space:pre;overflow-x:auto;line-height:normal;font-family:Menlo,'DejaVu Sans Mono',consolas,'Courier New',monospace\">-- Tool output: <span style=\"font-weight: bold\">[]</span>\n",
       "</pre>\n"
      ],
      "text/plain": [
       "-- Tool output: \u001b[1m[\u001b[0m\u001b[1m]\u001b[0m\n"
      ]
     },
     "metadata": {},
     "output_type": "display_data"
    },
    {
     "data": {
      "text/html": [
       "<pre style=\"white-space:pre;overflow-x:auto;line-height:normal;font-family:Menlo,'DejaVu Sans Mono',consolas,'Courier New',monospace\">-- Tool was called\n",
       "</pre>\n"
      ],
      "text/plain": [
       "-- Tool was called\n"
      ]
     },
     "metadata": {},
     "output_type": "display_data"
    },
    {
     "data": {
      "text/html": [
       "<pre style=\"white-space:pre;overflow-x:auto;line-height:normal;font-family:Menlo,'DejaVu Sans Mono',consolas,'Courier New',monospace\">-- Tool output: Meeting booked successfully. Details: <span style=\"font-weight: bold\">{</span><span style=\"color: #008000; text-decoration-color: #008000\">'kind'</span>: <span style=\"color: #008000; text-decoration-color: #008000\">'calendar#event'</span>, <span style=\"color: #008000; text-decoration-color: #008000\">'etag'</span>: <span style=\"color: #008000; text-decoration-color: #008000\">'\"3519500799481406\"'</span>, \n",
       "<span style=\"color: #008000; text-decoration-color: #008000\">'id'</span>: <span style=\"color: #008000; text-decoration-color: #008000\">'tvad4s4tluuibjnjql37jije0o'</span>, <span style=\"color: #008000; text-decoration-color: #008000\">'status'</span>: <span style=\"color: #008000; text-decoration-color: #008000\">'confirmed'</span>, <span style=\"color: #008000; text-decoration-color: #008000\">'htmlLink'</span>: \n",
       "<span style=\"color: #008000; text-decoration-color: #008000\">'https://www.google.com/calendar/event?eid=dHZhZDRzNHRsdXVpYmpuanFsMzdqaWplMG8gbW9yaWFydHlhbnlAbQ'</span>, <span style=\"color: #008000; text-decoration-color: #008000\">'created'</span>: \n",
       "<span style=\"color: #008000; text-decoration-color: #008000\">'2025-10-06T11:33:19.000Z'</span>, <span style=\"color: #008000; text-decoration-color: #008000\">'updated'</span>: <span style=\"color: #008000; text-decoration-color: #008000\">'2025-10-06T11:33:19.740Z'</span>, <span style=\"color: #008000; text-decoration-color: #008000\">'summary'</span>: <span style=\"color: #008000; text-decoration-color: #008000\">'Meeting with Aniket'</span>, <span style=\"color: #008000; text-decoration-color: #008000\">'description'</span>:\n",
       "<span style=\"color: #008000; text-decoration-color: #008000\">'Scheduled meeting with Aniket.'</span>, <span style=\"color: #008000; text-decoration-color: #008000\">'creator'</span>: <span style=\"font-weight: bold\">{</span><span style=\"color: #008000; text-decoration-color: #008000\">'email'</span>: <span style=\"color: #008000; text-decoration-color: #008000\">'moriartyany@gmail.com'</span>, <span style=\"color: #008000; text-decoration-color: #008000\">'self'</span>: <span style=\"color: #00ff00; text-decoration-color: #00ff00; font-style: italic\">True</span><span style=\"font-weight: bold\">}</span>, <span style=\"color: #008000; text-decoration-color: #008000\">'organizer'</span>: \n",
       "<span style=\"font-weight: bold\">{</span><span style=\"color: #008000; text-decoration-color: #008000\">'email'</span>: <span style=\"color: #008000; text-decoration-color: #008000\">'moriartyany@gmail.com'</span>, <span style=\"color: #008000; text-decoration-color: #008000\">'self'</span>: <span style=\"color: #00ff00; text-decoration-color: #00ff00; font-style: italic\">True</span><span style=\"font-weight: bold\">}</span>, <span style=\"color: #008000; text-decoration-color: #008000\">'start'</span>: <span style=\"font-weight: bold\">{</span><span style=\"color: #008000; text-decoration-color: #008000\">'dateTime'</span>: <span style=\"color: #008000; text-decoration-color: #008000\">'2025-10-06T15:00:00+01:00'</span>, <span style=\"color: #008000; text-decoration-color: #008000\">'timeZone'</span>: \n",
       "<span style=\"color: #008000; text-decoration-color: #008000\">'Europe/London'</span><span style=\"font-weight: bold\">}</span>, <span style=\"color: #008000; text-decoration-color: #008000\">'end'</span>: <span style=\"font-weight: bold\">{</span><span style=\"color: #008000; text-decoration-color: #008000\">'dateTime'</span>: <span style=\"color: #008000; text-decoration-color: #008000\">'2025-10-06T16:00:00+01:00'</span>, <span style=\"color: #008000; text-decoration-color: #008000\">'timeZone'</span>: <span style=\"color: #008000; text-decoration-color: #008000\">'Europe/London'</span><span style=\"font-weight: bold\">}</span>, <span style=\"color: #008000; text-decoration-color: #008000\">'iCalUID'</span>: \n",
       "<span style=\"color: #008000; text-decoration-color: #008000\">'tvad4s4tluuibjnjql37jije0o@google.com'</span>, <span style=\"color: #008000; text-decoration-color: #008000\">'sequence'</span>: <span style=\"color: #008080; text-decoration-color: #008080; font-weight: bold\">0</span>, <span style=\"color: #008000; text-decoration-color: #008000\">'reminders'</span>: <span style=\"font-weight: bold\">{</span><span style=\"color: #008000; text-decoration-color: #008000\">'useDefault'</span>: <span style=\"color: #00ff00; text-decoration-color: #00ff00; font-style: italic\">True</span><span style=\"font-weight: bold\">}</span>, <span style=\"color: #008000; text-decoration-color: #008000\">'eventType'</span>: <span style=\"color: #008000; text-decoration-color: #008000\">'default'</span><span style=\"font-weight: bold\">}</span>\n",
       "</pre>\n"
      ],
      "text/plain": [
       "-- Tool output: Meeting booked successfully. Details: \u001b[1m{\u001b[0m\u001b[32m'kind'\u001b[0m: \u001b[32m'calendar#event'\u001b[0m, \u001b[32m'etag'\u001b[0m: \u001b[32m'\"3519500799481406\"'\u001b[0m, \n",
       "\u001b[32m'id'\u001b[0m: \u001b[32m'tvad4s4tluuibjnjql37jije0o'\u001b[0m, \u001b[32m'status'\u001b[0m: \u001b[32m'confirmed'\u001b[0m, \u001b[32m'htmlLink'\u001b[0m: \n",
       "\u001b[32m'https://www.google.com/calendar/event?\u001b[0m\u001b[32meid\u001b[0m\u001b[32m=\u001b[0m\u001b[32mdHZhZDRzNHRsdXVpYmpuanFsMzdqaWplMG8gbW9yaWFydHlhbnlAbQ\u001b[0m\u001b[32m'\u001b[0m, \u001b[32m'created'\u001b[0m: \n",
       "\u001b[32m'2025-10-06T11:33:19.000Z'\u001b[0m, \u001b[32m'updated'\u001b[0m: \u001b[32m'2025-10-06T11:33:19.740Z'\u001b[0m, \u001b[32m'summary'\u001b[0m: \u001b[32m'Meeting with Aniket'\u001b[0m, \u001b[32m'description'\u001b[0m:\n",
       "\u001b[32m'Scheduled meeting with Aniket.'\u001b[0m, \u001b[32m'creator'\u001b[0m: \u001b[1m{\u001b[0m\u001b[32m'email'\u001b[0m: \u001b[32m'moriartyany@gmail.com'\u001b[0m, \u001b[32m'self'\u001b[0m: \u001b[3;92mTrue\u001b[0m\u001b[1m}\u001b[0m, \u001b[32m'organizer'\u001b[0m: \n",
       "\u001b[1m{\u001b[0m\u001b[32m'email'\u001b[0m: \u001b[32m'moriartyany@gmail.com'\u001b[0m, \u001b[32m'self'\u001b[0m: \u001b[3;92mTrue\u001b[0m\u001b[1m}\u001b[0m, \u001b[32m'start'\u001b[0m: \u001b[1m{\u001b[0m\u001b[32m'dateTime'\u001b[0m: \u001b[32m'2025-10-06T15:00:00+01:00'\u001b[0m, \u001b[32m'timeZone'\u001b[0m: \n",
       "\u001b[32m'Europe/London'\u001b[0m\u001b[1m}\u001b[0m, \u001b[32m'end'\u001b[0m: \u001b[1m{\u001b[0m\u001b[32m'dateTime'\u001b[0m: \u001b[32m'2025-10-06T16:00:00+01:00'\u001b[0m, \u001b[32m'timeZone'\u001b[0m: \u001b[32m'Europe/London'\u001b[0m\u001b[1m}\u001b[0m, \u001b[32m'iCalUID'\u001b[0m: \n",
       "\u001b[32m'tvad4s4tluuibjnjql37jije0o@google.com'\u001b[0m, \u001b[32m'sequence'\u001b[0m: \u001b[1;36m0\u001b[0m, \u001b[32m'reminders'\u001b[0m: \u001b[1m{\u001b[0m\u001b[32m'useDefault'\u001b[0m: \u001b[3;92mTrue\u001b[0m\u001b[1m}\u001b[0m, \u001b[32m'eventType'\u001b[0m: \u001b[32m'default'\u001b[0m\u001b[1m}\u001b[0m\n"
      ]
     },
     "metadata": {},
     "output_type": "display_data"
    },
    {
     "data": {
      "text/html": [
       "<pre style=\"white-space:pre;overflow-x:auto;line-height:normal;font-family:Menlo,'DejaVu Sans Mono',consolas,'Courier New',monospace\">-- Message output:\n",
       " Done — I scheduled the meeting.\n",
       "\n",
       "Details:\n",
       "- Title: Meeting with Aniket\n",
       "- When: <span style=\"color: #008080; text-decoration-color: #008080; font-weight: bold\">2025</span>-<span style=\"color: #008080; text-decoration-color: #008080; font-weight: bold\">10</span>-<span style=\"color: #008080; text-decoration-color: #008080; font-weight: bold\">06</span>, <span style=\"color: #00ff00; text-decoration-color: #00ff00; font-weight: bold\">15:00</span>–<span style=\"color: #00ff00; text-decoration-color: #00ff00; font-weight: bold\">16:00</span> BST <span style=\"font-weight: bold\">(</span>Europe/London<span style=\"font-weight: bold\">)</span>\n",
       "- Attendee: aniket@example.com\n",
       "- Calendar event link: \n",
       "<span style=\"color: #0000ff; text-decoration-color: #0000ff; text-decoration: underline\">https://www.google.com/calendar/event?eid=dHZhZDRzNHRsdXVpYmpuanFsMzdqaWplMG8gbW9yaWFydHlhbnlAbQ</span>\n",
       "\n",
       "Would you like me to add a reminder, change the title or description, or invite anyone else?\n",
       "</pre>\n"
      ],
      "text/plain": [
       "-- Message output:\n",
       " Done — I scheduled the meeting.\n",
       "\n",
       "Details:\n",
       "- Title: Meeting with Aniket\n",
       "- When: \u001b[1;36m2025\u001b[0m-\u001b[1;36m10\u001b[0m-\u001b[1;36m06\u001b[0m, \u001b[1;92m15:00\u001b[0m–\u001b[1;92m16:00\u001b[0m BST \u001b[1m(\u001b[0mEurope/London\u001b[1m)\u001b[0m\n",
       "- Attendee: aniket@example.com\n",
       "- Calendar event link: \n",
       "\u001b[4;94mhttps://www.google.com/calendar/event?\u001b[0m\u001b[4;94meid\u001b[0m\u001b[4;94m=\u001b[0m\u001b[4;94mdHZhZDRzNHRsdXVpYmpuanFsMzdqaWplMG8gbW9yaWFydHlhbnlAbQ\u001b[0m\n",
       "\n",
       "Would you like me to add a reminder, change the title or description, or invite anyone else?\n"
      ]
     },
     "metadata": {},
     "output_type": "display_data"
    }
   ],
   "source": [
    "result = Runner.run_streamed(calendar_agent, \"I want to schedule a meeting with Aniket (aniket@example.com) on 6th October 2025 from 15:00 to 16:00 BST\")\n",
    "\n",
    "async for event in result.stream_events():\n",
    "    # We'll ignore the raw responses event deltas\n",
    "    if event.type == \"raw_response_event\":\n",
    "        continue\n",
    "    # When the agent updates, print that\n",
    "    elif event.type == \"agent_updated_stream_event\":\n",
    "        print(f\"Agent updated: {event.new_agent.name}\")\n",
    "        continue\n",
    "    # When items are generated, print them\n",
    "    elif event.type == \"run_item_stream_event\":\n",
    "        if event.item.type == \"tool_call_item\":\n",
    "            print(\"-- Tool was called\")\n",
    "        elif event.item.type == \"tool_call_output_item\":\n",
    "            print(f\"-- Tool output: {event.item.output}\")\n",
    "        elif event.item.type == \"message_output_item\":\n",
    "            print(f\"-- Message output:\\n {ItemHelpers.text_message_output(event.item)}\")\n",
    "        else:\n",
    "            pass  # Ignore other event types"
   ]
  },
  {
   "cell_type": "markdown",
   "id": "a2c871fd",
   "metadata": {},
   "source": [
    "## Orchestrating multiple agents\n",
    "\n",
    "\n",
    "**Example:**\n",
    "- Schedule meeting\n",
    "- Send email reminders\n",
    "\n",
    "### Handoff Agents"
   ]
  },
  {
   "cell_type": "code",
   "execution_count": 26,
   "id": "0d685d93",
   "metadata": {},
   "outputs": [],
   "source": [
    "calendar_agent = Agent(\n",
    "    name=\"Calendar Agent\",\n",
    "    instructions=\"You are a helpful assistant that can help schedule meetings on the calendar. You use sensible defaults for the meeting details.\",\n",
    "    model=\"gpt-5-mini\",\n",
    "    tools=[view_availability, book_meeting],\n",
    ")\n",
    "\n",
    "@function_tool\n",
    "def send_email(to: str, subject: str, body: str) -> str:\n",
    "    \"\"\"Sends an email to the specified recipient. The output contains the email details.\"\"\"\n",
    "    return f\"Email sent successfully. Details: {to}, {subject}, {body}\"\n",
    "\n",
    "email_agent = Agent(\n",
    "    name=\"Email Agent\",\n",
    "    instructions=\"You are a helpful assistant that can send emails. You use sensible defaults for the email content.\",\n",
    "    model=\"gpt-5-mini\",\n",
    "    tools=[send_email],\n",
    ")\n",
    "\n",
    "\n",
    "triage_agent = Agent(\n",
    "    name=\"triage_agent\",\n",
    "    instructions=\"Handoff to the appropriate agent based on the user's request.\",\n",
    "    handoffs=[email_agent, calendar_agent],\n",
    ")\n"
   ]
  },
  {
   "cell_type": "code",
   "execution_count": 27,
   "id": "f753a1aa",
   "metadata": {},
   "outputs": [],
   "source": [
    "from agents import run_demo_loop\n",
    "await run_demo_loop(triage_agent)"
   ]
  },
  {
   "cell_type": "markdown",
   "id": "a73d63dd",
   "metadata": {},
   "source": [
    "## Agents as tools\n"
   ]
  },
  {
   "cell_type": "code",
   "execution_count": 28,
   "id": "e53a2ee5",
   "metadata": {},
   "outputs": [],
   "source": [
    "calendar_agent = Agent(\n",
    "    name=\"Calendar Agent\",\n",
    "    instructions=\"You are a helpful assistant that can help schedule meetings on the calendar. You use sensible defaults for the meeting details.\",\n",
    "    model=\"gpt-5-mini\",\n",
    "    tools=[view_availability, book_meeting],\n",
    ")\n",
    "\n",
    "@function_tool\n",
    "def send_email(to: str, subject: str, body: str) -> str:\n",
    "    \"\"\"Sends an email to the specified recipient. The output contains the email details.\"\"\"\n",
    "    return f\"Email sent successfully. Details: {to}, {subject}, {body}\"\n",
    "\n",
    "email_agent = Agent(\n",
    "    name=\"Email Agent\",\n",
    "    instructions=\"You are a helpful assistant that can send emails. You use sensible defaults for the email content.\",\n",
    "    model=\"gpt-5-mini\",\n",
    "    tools=[send_email],\n",
    ")\n",
    "\n",
    "\n",
    "triage_agent = Agent(\n",
    "    name=\"triage_agent\",\n",
    "    instructions=\"Use the tools provided to help the user with their request.\",\n",
    "    tools = [\n",
    "        email_agent.as_tool(tool_name=\"send_email\", tool_description=\"Send an email to the specified recipient. The output contains the email details.\"), \n",
    "        calendar_agent.as_tool(tool_name=\"calendar_manager\", tool_description=\"Schedule a meeting on the calendar. The output contains the event details.\")\n",
    "        ]\n",
    ")\n",
    "\n",
    "from agents import run_demo_loop\n",
    "await run_demo_loop(triage_agent)"
   ]
  },
  {
   "cell_type": "code",
   "execution_count": null,
   "id": "4f6e2fbb",
   "metadata": {},
   "outputs": [],
   "source": []
  }
 ],
 "metadata": {
  "kernelspec": {
   "display_name": ".venv",
   "language": "python",
   "name": "python3"
  },
  "language_info": {
   "codemirror_mode": {
    "name": "ipython",
    "version": 3
   },
   "file_extension": ".py",
   "mimetype": "text/x-python",
   "name": "python",
   "nbconvert_exporter": "python",
   "pygments_lexer": "ipython3",
   "version": "3.13.5"
  }
 },
 "nbformat": 4,
 "nbformat_minor": 5
}
